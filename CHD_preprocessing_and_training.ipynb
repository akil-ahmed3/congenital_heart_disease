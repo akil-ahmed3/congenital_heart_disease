{
  "nbformat": 4,
  "nbformat_minor": 0,
  "metadata": {
    "colab": {
      "provenance": [],
      "gpuType": "T4",
      "machine_shape": "hm",
      "toc_visible": true
    },
    "kernelspec": {
      "name": "python3",
      "display_name": "Python 3"
    },
    "language_info": {
      "name": "python"
    },
    "accelerator": "GPU",
    "widgets": {
      "application/vnd.jupyter.widget-state+json": {
        "efb8a48a2fc34937b671d1f99dc49942": {
          "model_module": "@jupyter-widgets/controls",
          "model_name": "HBoxModel",
          "model_module_version": "1.5.0",
          "state": {
            "_dom_classes": [],
            "_model_module": "@jupyter-widgets/controls",
            "_model_module_version": "1.5.0",
            "_model_name": "HBoxModel",
            "_view_count": null,
            "_view_module": "@jupyter-widgets/controls",
            "_view_module_version": "1.5.0",
            "_view_name": "HBoxView",
            "box_style": "",
            "children": [
              "IPY_MODEL_78434f9d1a5345698391b335b7a2f6b6",
              "IPY_MODEL_b763cbaf6a4a47efa8bd7d567b0fefbe",
              "IPY_MODEL_221cfa88641b48868965ca7767e474f5"
            ],
            "layout": "IPY_MODEL_6cfc2cb4aa414442b15a9bb3b0613b9b"
          }
        },
        "78434f9d1a5345698391b335b7a2f6b6": {
          "model_module": "@jupyter-widgets/controls",
          "model_name": "HTMLModel",
          "model_module_version": "1.5.0",
          "state": {
            "_dom_classes": [],
            "_model_module": "@jupyter-widgets/controls",
            "_model_module_version": "1.5.0",
            "_model_name": "HTMLModel",
            "_view_count": null,
            "_view_module": "@jupyter-widgets/controls",
            "_view_module_version": "1.5.0",
            "_view_name": "HTMLView",
            "description": "",
            "description_tooltip": null,
            "layout": "IPY_MODEL_aa79511adb714decada5b3cd83af77f3",
            "placeholder": "​",
            "style": "IPY_MODEL_ed8219be144b4ea9866147cfd31c12fe",
            "value": ""
          }
        },
        "b763cbaf6a4a47efa8bd7d567b0fefbe": {
          "model_module": "@jupyter-widgets/controls",
          "model_name": "FloatProgressModel",
          "model_module_version": "1.5.0",
          "state": {
            "_dom_classes": [],
            "_model_module": "@jupyter-widgets/controls",
            "_model_module_version": "1.5.0",
            "_model_name": "FloatProgressModel",
            "_view_count": null,
            "_view_module": "@jupyter-widgets/controls",
            "_view_module_version": "1.5.0",
            "_view_name": "ProgressView",
            "bar_style": "success",
            "description": "",
            "description_tooltip": null,
            "layout": "IPY_MODEL_3a5f0ed25d0148459c08ac048dea8067",
            "max": 1,
            "min": 0,
            "orientation": "horizontal",
            "style": "IPY_MODEL_b4892a10b611406c8aa6c0a846324df7",
            "value": 1
          }
        },
        "221cfa88641b48868965ca7767e474f5": {
          "model_module": "@jupyter-widgets/controls",
          "model_name": "HTMLModel",
          "model_module_version": "1.5.0",
          "state": {
            "_dom_classes": [],
            "_model_module": "@jupyter-widgets/controls",
            "_model_module_version": "1.5.0",
            "_model_name": "HTMLModel",
            "_view_count": null,
            "_view_module": "@jupyter-widgets/controls",
            "_view_module_version": "1.5.0",
            "_view_name": "HTMLView",
            "description": "",
            "description_tooltip": null,
            "layout": "IPY_MODEL_ffa1bac1f580423c8a46e23825c807c1",
            "placeholder": "​",
            "style": "IPY_MODEL_16580894d51646efa461fc02f013926f",
            "value": " 166/? [00:04&lt;00:00, 42.23it/s]"
          }
        },
        "6cfc2cb4aa414442b15a9bb3b0613b9b": {
          "model_module": "@jupyter-widgets/base",
          "model_name": "LayoutModel",
          "model_module_version": "1.2.0",
          "state": {
            "_model_module": "@jupyter-widgets/base",
            "_model_module_version": "1.2.0",
            "_model_name": "LayoutModel",
            "_view_count": null,
            "_view_module": "@jupyter-widgets/base",
            "_view_module_version": "1.2.0",
            "_view_name": "LayoutView",
            "align_content": null,
            "align_items": null,
            "align_self": null,
            "border": null,
            "bottom": null,
            "display": null,
            "flex": null,
            "flex_flow": null,
            "grid_area": null,
            "grid_auto_columns": null,
            "grid_auto_flow": null,
            "grid_auto_rows": null,
            "grid_column": null,
            "grid_gap": null,
            "grid_row": null,
            "grid_template_areas": null,
            "grid_template_columns": null,
            "grid_template_rows": null,
            "height": null,
            "justify_content": null,
            "justify_items": null,
            "left": null,
            "margin": null,
            "max_height": null,
            "max_width": null,
            "min_height": null,
            "min_width": null,
            "object_fit": null,
            "object_position": null,
            "order": null,
            "overflow": null,
            "overflow_x": null,
            "overflow_y": null,
            "padding": null,
            "right": null,
            "top": null,
            "visibility": null,
            "width": null
          }
        },
        "aa79511adb714decada5b3cd83af77f3": {
          "model_module": "@jupyter-widgets/base",
          "model_name": "LayoutModel",
          "model_module_version": "1.2.0",
          "state": {
            "_model_module": "@jupyter-widgets/base",
            "_model_module_version": "1.2.0",
            "_model_name": "LayoutModel",
            "_view_count": null,
            "_view_module": "@jupyter-widgets/base",
            "_view_module_version": "1.2.0",
            "_view_name": "LayoutView",
            "align_content": null,
            "align_items": null,
            "align_self": null,
            "border": null,
            "bottom": null,
            "display": null,
            "flex": null,
            "flex_flow": null,
            "grid_area": null,
            "grid_auto_columns": null,
            "grid_auto_flow": null,
            "grid_auto_rows": null,
            "grid_column": null,
            "grid_gap": null,
            "grid_row": null,
            "grid_template_areas": null,
            "grid_template_columns": null,
            "grid_template_rows": null,
            "height": null,
            "justify_content": null,
            "justify_items": null,
            "left": null,
            "margin": null,
            "max_height": null,
            "max_width": null,
            "min_height": null,
            "min_width": null,
            "object_fit": null,
            "object_position": null,
            "order": null,
            "overflow": null,
            "overflow_x": null,
            "overflow_y": null,
            "padding": null,
            "right": null,
            "top": null,
            "visibility": null,
            "width": null
          }
        },
        "ed8219be144b4ea9866147cfd31c12fe": {
          "model_module": "@jupyter-widgets/controls",
          "model_name": "DescriptionStyleModel",
          "model_module_version": "1.5.0",
          "state": {
            "_model_module": "@jupyter-widgets/controls",
            "_model_module_version": "1.5.0",
            "_model_name": "DescriptionStyleModel",
            "_view_count": null,
            "_view_module": "@jupyter-widgets/base",
            "_view_module_version": "1.2.0",
            "_view_name": "StyleView",
            "description_width": ""
          }
        },
        "3a5f0ed25d0148459c08ac048dea8067": {
          "model_module": "@jupyter-widgets/base",
          "model_name": "LayoutModel",
          "model_module_version": "1.2.0",
          "state": {
            "_model_module": "@jupyter-widgets/base",
            "_model_module_version": "1.2.0",
            "_model_name": "LayoutModel",
            "_view_count": null,
            "_view_module": "@jupyter-widgets/base",
            "_view_module_version": "1.2.0",
            "_view_name": "LayoutView",
            "align_content": null,
            "align_items": null,
            "align_self": null,
            "border": null,
            "bottom": null,
            "display": null,
            "flex": null,
            "flex_flow": null,
            "grid_area": null,
            "grid_auto_columns": null,
            "grid_auto_flow": null,
            "grid_auto_rows": null,
            "grid_column": null,
            "grid_gap": null,
            "grid_row": null,
            "grid_template_areas": null,
            "grid_template_columns": null,
            "grid_template_rows": null,
            "height": null,
            "justify_content": null,
            "justify_items": null,
            "left": null,
            "margin": null,
            "max_height": null,
            "max_width": null,
            "min_height": null,
            "min_width": null,
            "object_fit": null,
            "object_position": null,
            "order": null,
            "overflow": null,
            "overflow_x": null,
            "overflow_y": null,
            "padding": null,
            "right": null,
            "top": null,
            "visibility": null,
            "width": "20px"
          }
        },
        "b4892a10b611406c8aa6c0a846324df7": {
          "model_module": "@jupyter-widgets/controls",
          "model_name": "ProgressStyleModel",
          "model_module_version": "1.5.0",
          "state": {
            "_model_module": "@jupyter-widgets/controls",
            "_model_module_version": "1.5.0",
            "_model_name": "ProgressStyleModel",
            "_view_count": null,
            "_view_module": "@jupyter-widgets/base",
            "_view_module_version": "1.2.0",
            "_view_name": "StyleView",
            "bar_color": null,
            "description_width": ""
          }
        },
        "ffa1bac1f580423c8a46e23825c807c1": {
          "model_module": "@jupyter-widgets/base",
          "model_name": "LayoutModel",
          "model_module_version": "1.2.0",
          "state": {
            "_model_module": "@jupyter-widgets/base",
            "_model_module_version": "1.2.0",
            "_model_name": "LayoutModel",
            "_view_count": null,
            "_view_module": "@jupyter-widgets/base",
            "_view_module_version": "1.2.0",
            "_view_name": "LayoutView",
            "align_content": null,
            "align_items": null,
            "align_self": null,
            "border": null,
            "bottom": null,
            "display": null,
            "flex": null,
            "flex_flow": null,
            "grid_area": null,
            "grid_auto_columns": null,
            "grid_auto_flow": null,
            "grid_auto_rows": null,
            "grid_column": null,
            "grid_gap": null,
            "grid_row": null,
            "grid_template_areas": null,
            "grid_template_columns": null,
            "grid_template_rows": null,
            "height": null,
            "justify_content": null,
            "justify_items": null,
            "left": null,
            "margin": null,
            "max_height": null,
            "max_width": null,
            "min_height": null,
            "min_width": null,
            "object_fit": null,
            "object_position": null,
            "order": null,
            "overflow": null,
            "overflow_x": null,
            "overflow_y": null,
            "padding": null,
            "right": null,
            "top": null,
            "visibility": null,
            "width": null
          }
        },
        "16580894d51646efa461fc02f013926f": {
          "model_module": "@jupyter-widgets/controls",
          "model_name": "DescriptionStyleModel",
          "model_module_version": "1.5.0",
          "state": {
            "_model_module": "@jupyter-widgets/controls",
            "_model_module_version": "1.5.0",
            "_model_name": "DescriptionStyleModel",
            "_view_count": null,
            "_view_module": "@jupyter-widgets/base",
            "_view_module_version": "1.2.0",
            "_view_name": "StyleView",
            "description_width": ""
          }
        },
        "13b63bd2290941dca777a75b8261349c": {
          "model_module": "@jupyter-widgets/controls",
          "model_name": "HBoxModel",
          "model_module_version": "1.5.0",
          "state": {
            "_dom_classes": [],
            "_model_module": "@jupyter-widgets/controls",
            "_model_module_version": "1.5.0",
            "_model_name": "HBoxModel",
            "_view_count": null,
            "_view_module": "@jupyter-widgets/controls",
            "_view_module_version": "1.5.0",
            "_view_name": "HBoxView",
            "box_style": "",
            "children": [
              "IPY_MODEL_4237ef3cf6ef49c6a49c6f8777ea574c",
              "IPY_MODEL_05d9d2fc7b8e4c45a96742c7836c6e6d",
              "IPY_MODEL_2490796f0a9b44bfaa92268483620f25"
            ],
            "layout": "IPY_MODEL_0054680ac1fb463781a5918f244c3585"
          }
        },
        "4237ef3cf6ef49c6a49c6f8777ea574c": {
          "model_module": "@jupyter-widgets/controls",
          "model_name": "HTMLModel",
          "model_module_version": "1.5.0",
          "state": {
            "_dom_classes": [],
            "_model_module": "@jupyter-widgets/controls",
            "_model_module_version": "1.5.0",
            "_model_name": "HTMLModel",
            "_view_count": null,
            "_view_module": "@jupyter-widgets/controls",
            "_view_module_version": "1.5.0",
            "_view_name": "HTMLView",
            "description": "",
            "description_tooltip": null,
            "layout": "IPY_MODEL_c702f4b7ab1241f78e6c3e1141046d90",
            "placeholder": "​",
            "style": "IPY_MODEL_698d712fadc341e59298c3bb49b25bd0",
            "value": "100%"
          }
        },
        "05d9d2fc7b8e4c45a96742c7836c6e6d": {
          "model_module": "@jupyter-widgets/controls",
          "model_name": "FloatProgressModel",
          "model_module_version": "1.5.0",
          "state": {
            "_dom_classes": [],
            "_model_module": "@jupyter-widgets/controls",
            "_model_module_version": "1.5.0",
            "_model_name": "FloatProgressModel",
            "_view_count": null,
            "_view_module": "@jupyter-widgets/controls",
            "_view_module_version": "1.5.0",
            "_view_name": "ProgressView",
            "bar_style": "success",
            "description": "",
            "description_tooltip": null,
            "layout": "IPY_MODEL_3630974dacd647edbdae2c57c1c53a52",
            "max": 166,
            "min": 0,
            "orientation": "horizontal",
            "style": "IPY_MODEL_ef74619697064a57b4a3523539b6be59",
            "value": 166
          }
        },
        "2490796f0a9b44bfaa92268483620f25": {
          "model_module": "@jupyter-widgets/controls",
          "model_name": "HTMLModel",
          "model_module_version": "1.5.0",
          "state": {
            "_dom_classes": [],
            "_model_module": "@jupyter-widgets/controls",
            "_model_module_version": "1.5.0",
            "_model_name": "HTMLModel",
            "_view_count": null,
            "_view_module": "@jupyter-widgets/controls",
            "_view_module_version": "1.5.0",
            "_view_name": "HTMLView",
            "description": "",
            "description_tooltip": null,
            "layout": "IPY_MODEL_90b9c38a5c8c4664b548d7bade924a1f",
            "placeholder": "​",
            "style": "IPY_MODEL_fabf775b3c0f4cef96dcef1ebfe5ac1f",
            "value": " 166/166 [00:03&lt;00:00, 45.88it/s]"
          }
        },
        "0054680ac1fb463781a5918f244c3585": {
          "model_module": "@jupyter-widgets/base",
          "model_name": "LayoutModel",
          "model_module_version": "1.2.0",
          "state": {
            "_model_module": "@jupyter-widgets/base",
            "_model_module_version": "1.2.0",
            "_model_name": "LayoutModel",
            "_view_count": null,
            "_view_module": "@jupyter-widgets/base",
            "_view_module_version": "1.2.0",
            "_view_name": "LayoutView",
            "align_content": null,
            "align_items": null,
            "align_self": null,
            "border": null,
            "bottom": null,
            "display": null,
            "flex": null,
            "flex_flow": null,
            "grid_area": null,
            "grid_auto_columns": null,
            "grid_auto_flow": null,
            "grid_auto_rows": null,
            "grid_column": null,
            "grid_gap": null,
            "grid_row": null,
            "grid_template_areas": null,
            "grid_template_columns": null,
            "grid_template_rows": null,
            "height": null,
            "justify_content": null,
            "justify_items": null,
            "left": null,
            "margin": null,
            "max_height": null,
            "max_width": null,
            "min_height": null,
            "min_width": null,
            "object_fit": null,
            "object_position": null,
            "order": null,
            "overflow": null,
            "overflow_x": null,
            "overflow_y": null,
            "padding": null,
            "right": null,
            "top": null,
            "visibility": null,
            "width": null
          }
        },
        "c702f4b7ab1241f78e6c3e1141046d90": {
          "model_module": "@jupyter-widgets/base",
          "model_name": "LayoutModel",
          "model_module_version": "1.2.0",
          "state": {
            "_model_module": "@jupyter-widgets/base",
            "_model_module_version": "1.2.0",
            "_model_name": "LayoutModel",
            "_view_count": null,
            "_view_module": "@jupyter-widgets/base",
            "_view_module_version": "1.2.0",
            "_view_name": "LayoutView",
            "align_content": null,
            "align_items": null,
            "align_self": null,
            "border": null,
            "bottom": null,
            "display": null,
            "flex": null,
            "flex_flow": null,
            "grid_area": null,
            "grid_auto_columns": null,
            "grid_auto_flow": null,
            "grid_auto_rows": null,
            "grid_column": null,
            "grid_gap": null,
            "grid_row": null,
            "grid_template_areas": null,
            "grid_template_columns": null,
            "grid_template_rows": null,
            "height": null,
            "justify_content": null,
            "justify_items": null,
            "left": null,
            "margin": null,
            "max_height": null,
            "max_width": null,
            "min_height": null,
            "min_width": null,
            "object_fit": null,
            "object_position": null,
            "order": null,
            "overflow": null,
            "overflow_x": null,
            "overflow_y": null,
            "padding": null,
            "right": null,
            "top": null,
            "visibility": null,
            "width": null
          }
        },
        "698d712fadc341e59298c3bb49b25bd0": {
          "model_module": "@jupyter-widgets/controls",
          "model_name": "DescriptionStyleModel",
          "model_module_version": "1.5.0",
          "state": {
            "_model_module": "@jupyter-widgets/controls",
            "_model_module_version": "1.5.0",
            "_model_name": "DescriptionStyleModel",
            "_view_count": null,
            "_view_module": "@jupyter-widgets/base",
            "_view_module_version": "1.2.0",
            "_view_name": "StyleView",
            "description_width": ""
          }
        },
        "3630974dacd647edbdae2c57c1c53a52": {
          "model_module": "@jupyter-widgets/base",
          "model_name": "LayoutModel",
          "model_module_version": "1.2.0",
          "state": {
            "_model_module": "@jupyter-widgets/base",
            "_model_module_version": "1.2.0",
            "_model_name": "LayoutModel",
            "_view_count": null,
            "_view_module": "@jupyter-widgets/base",
            "_view_module_version": "1.2.0",
            "_view_name": "LayoutView",
            "align_content": null,
            "align_items": null,
            "align_self": null,
            "border": null,
            "bottom": null,
            "display": null,
            "flex": null,
            "flex_flow": null,
            "grid_area": null,
            "grid_auto_columns": null,
            "grid_auto_flow": null,
            "grid_auto_rows": null,
            "grid_column": null,
            "grid_gap": null,
            "grid_row": null,
            "grid_template_areas": null,
            "grid_template_columns": null,
            "grid_template_rows": null,
            "height": null,
            "justify_content": null,
            "justify_items": null,
            "left": null,
            "margin": null,
            "max_height": null,
            "max_width": null,
            "min_height": null,
            "min_width": null,
            "object_fit": null,
            "object_position": null,
            "order": null,
            "overflow": null,
            "overflow_x": null,
            "overflow_y": null,
            "padding": null,
            "right": null,
            "top": null,
            "visibility": null,
            "width": null
          }
        },
        "ef74619697064a57b4a3523539b6be59": {
          "model_module": "@jupyter-widgets/controls",
          "model_name": "ProgressStyleModel",
          "model_module_version": "1.5.0",
          "state": {
            "_model_module": "@jupyter-widgets/controls",
            "_model_module_version": "1.5.0",
            "_model_name": "ProgressStyleModel",
            "_view_count": null,
            "_view_module": "@jupyter-widgets/base",
            "_view_module_version": "1.2.0",
            "_view_name": "StyleView",
            "bar_color": null,
            "description_width": ""
          }
        },
        "90b9c38a5c8c4664b548d7bade924a1f": {
          "model_module": "@jupyter-widgets/base",
          "model_name": "LayoutModel",
          "model_module_version": "1.2.0",
          "state": {
            "_model_module": "@jupyter-widgets/base",
            "_model_module_version": "1.2.0",
            "_model_name": "LayoutModel",
            "_view_count": null,
            "_view_module": "@jupyter-widgets/base",
            "_view_module_version": "1.2.0",
            "_view_name": "LayoutView",
            "align_content": null,
            "align_items": null,
            "align_self": null,
            "border": null,
            "bottom": null,
            "display": null,
            "flex": null,
            "flex_flow": null,
            "grid_area": null,
            "grid_auto_columns": null,
            "grid_auto_flow": null,
            "grid_auto_rows": null,
            "grid_column": null,
            "grid_gap": null,
            "grid_row": null,
            "grid_template_areas": null,
            "grid_template_columns": null,
            "grid_template_rows": null,
            "height": null,
            "justify_content": null,
            "justify_items": null,
            "left": null,
            "margin": null,
            "max_height": null,
            "max_width": null,
            "min_height": null,
            "min_width": null,
            "object_fit": null,
            "object_position": null,
            "order": null,
            "overflow": null,
            "overflow_x": null,
            "overflow_y": null,
            "padding": null,
            "right": null,
            "top": null,
            "visibility": null,
            "width": null
          }
        },
        "fabf775b3c0f4cef96dcef1ebfe5ac1f": {
          "model_module": "@jupyter-widgets/controls",
          "model_name": "DescriptionStyleModel",
          "model_module_version": "1.5.0",
          "state": {
            "_model_module": "@jupyter-widgets/controls",
            "_model_module_version": "1.5.0",
            "_model_name": "DescriptionStyleModel",
            "_view_count": null,
            "_view_module": "@jupyter-widgets/base",
            "_view_module_version": "1.2.0",
            "_view_name": "StyleView",
            "description_width": ""
          }
        },
        "e0dc7adc46b1474493e28f46b6e3f39a": {
          "model_module": "@jupyter-widgets/controls",
          "model_name": "HBoxModel",
          "model_module_version": "1.5.0",
          "state": {
            "_dom_classes": [],
            "_model_module": "@jupyter-widgets/controls",
            "_model_module_version": "1.5.0",
            "_model_name": "HBoxModel",
            "_view_count": null,
            "_view_module": "@jupyter-widgets/controls",
            "_view_module_version": "1.5.0",
            "_view_name": "HBoxView",
            "box_style": "",
            "children": [
              "IPY_MODEL_75c28f9e57e849288153ed7d177a06dc",
              "IPY_MODEL_ef823e69413e4fd5ab7a13c0faa50af4",
              "IPY_MODEL_99f015a3dcac4aea81b24ac33fe1b212"
            ],
            "layout": "IPY_MODEL_0036de2883544392aad9452ffdef54d5"
          }
        },
        "75c28f9e57e849288153ed7d177a06dc": {
          "model_module": "@jupyter-widgets/controls",
          "model_name": "HTMLModel",
          "model_module_version": "1.5.0",
          "state": {
            "_dom_classes": [],
            "_model_module": "@jupyter-widgets/controls",
            "_model_module_version": "1.5.0",
            "_model_name": "HTMLModel",
            "_view_count": null,
            "_view_module": "@jupyter-widgets/controls",
            "_view_module_version": "1.5.0",
            "_view_name": "HTMLView",
            "description": "",
            "description_tooltip": null,
            "layout": "IPY_MODEL_80a54a6eeaef4a4fb16a5195ca024f4e",
            "placeholder": "​",
            "style": "IPY_MODEL_1c1d819721ec4cdcbd7b71d23338dba9",
            "value": "100%"
          }
        },
        "ef823e69413e4fd5ab7a13c0faa50af4": {
          "model_module": "@jupyter-widgets/controls",
          "model_name": "FloatProgressModel",
          "model_module_version": "1.5.0",
          "state": {
            "_dom_classes": [],
            "_model_module": "@jupyter-widgets/controls",
            "_model_module_version": "1.5.0",
            "_model_name": "FloatProgressModel",
            "_view_count": null,
            "_view_module": "@jupyter-widgets/controls",
            "_view_module_version": "1.5.0",
            "_view_name": "ProgressView",
            "bar_style": "success",
            "description": "",
            "description_tooltip": null,
            "layout": "IPY_MODEL_a7f25fb81f64449d8de207f86f0b8b85",
            "max": 166,
            "min": 0,
            "orientation": "horizontal",
            "style": "IPY_MODEL_86ef623454e64be3a45fecd9f17648b3",
            "value": 166
          }
        },
        "99f015a3dcac4aea81b24ac33fe1b212": {
          "model_module": "@jupyter-widgets/controls",
          "model_name": "HTMLModel",
          "model_module_version": "1.5.0",
          "state": {
            "_dom_classes": [],
            "_model_module": "@jupyter-widgets/controls",
            "_model_module_version": "1.5.0",
            "_model_name": "HTMLModel",
            "_view_count": null,
            "_view_module": "@jupyter-widgets/controls",
            "_view_module_version": "1.5.0",
            "_view_name": "HTMLView",
            "description": "",
            "description_tooltip": null,
            "layout": "IPY_MODEL_d8264da8f0934cf0b9f39fb5ecb2ccbf",
            "placeholder": "​",
            "style": "IPY_MODEL_4911603374724fc3a52b7c5168c0a367",
            "value": " 166/166 [00:05&lt;00:00, 28.85it/s]"
          }
        },
        "0036de2883544392aad9452ffdef54d5": {
          "model_module": "@jupyter-widgets/base",
          "model_name": "LayoutModel",
          "model_module_version": "1.2.0",
          "state": {
            "_model_module": "@jupyter-widgets/base",
            "_model_module_version": "1.2.0",
            "_model_name": "LayoutModel",
            "_view_count": null,
            "_view_module": "@jupyter-widgets/base",
            "_view_module_version": "1.2.0",
            "_view_name": "LayoutView",
            "align_content": null,
            "align_items": null,
            "align_self": null,
            "border": null,
            "bottom": null,
            "display": null,
            "flex": null,
            "flex_flow": null,
            "grid_area": null,
            "grid_auto_columns": null,
            "grid_auto_flow": null,
            "grid_auto_rows": null,
            "grid_column": null,
            "grid_gap": null,
            "grid_row": null,
            "grid_template_areas": null,
            "grid_template_columns": null,
            "grid_template_rows": null,
            "height": null,
            "justify_content": null,
            "justify_items": null,
            "left": null,
            "margin": null,
            "max_height": null,
            "max_width": null,
            "min_height": null,
            "min_width": null,
            "object_fit": null,
            "object_position": null,
            "order": null,
            "overflow": null,
            "overflow_x": null,
            "overflow_y": null,
            "padding": null,
            "right": null,
            "top": null,
            "visibility": null,
            "width": null
          }
        },
        "80a54a6eeaef4a4fb16a5195ca024f4e": {
          "model_module": "@jupyter-widgets/base",
          "model_name": "LayoutModel",
          "model_module_version": "1.2.0",
          "state": {
            "_model_module": "@jupyter-widgets/base",
            "_model_module_version": "1.2.0",
            "_model_name": "LayoutModel",
            "_view_count": null,
            "_view_module": "@jupyter-widgets/base",
            "_view_module_version": "1.2.0",
            "_view_name": "LayoutView",
            "align_content": null,
            "align_items": null,
            "align_self": null,
            "border": null,
            "bottom": null,
            "display": null,
            "flex": null,
            "flex_flow": null,
            "grid_area": null,
            "grid_auto_columns": null,
            "grid_auto_flow": null,
            "grid_auto_rows": null,
            "grid_column": null,
            "grid_gap": null,
            "grid_row": null,
            "grid_template_areas": null,
            "grid_template_columns": null,
            "grid_template_rows": null,
            "height": null,
            "justify_content": null,
            "justify_items": null,
            "left": null,
            "margin": null,
            "max_height": null,
            "max_width": null,
            "min_height": null,
            "min_width": null,
            "object_fit": null,
            "object_position": null,
            "order": null,
            "overflow": null,
            "overflow_x": null,
            "overflow_y": null,
            "padding": null,
            "right": null,
            "top": null,
            "visibility": null,
            "width": null
          }
        },
        "1c1d819721ec4cdcbd7b71d23338dba9": {
          "model_module": "@jupyter-widgets/controls",
          "model_name": "DescriptionStyleModel",
          "model_module_version": "1.5.0",
          "state": {
            "_model_module": "@jupyter-widgets/controls",
            "_model_module_version": "1.5.0",
            "_model_name": "DescriptionStyleModel",
            "_view_count": null,
            "_view_module": "@jupyter-widgets/base",
            "_view_module_version": "1.2.0",
            "_view_name": "StyleView",
            "description_width": ""
          }
        },
        "a7f25fb81f64449d8de207f86f0b8b85": {
          "model_module": "@jupyter-widgets/base",
          "model_name": "LayoutModel",
          "model_module_version": "1.2.0",
          "state": {
            "_model_module": "@jupyter-widgets/base",
            "_model_module_version": "1.2.0",
            "_model_name": "LayoutModel",
            "_view_count": null,
            "_view_module": "@jupyter-widgets/base",
            "_view_module_version": "1.2.0",
            "_view_name": "LayoutView",
            "align_content": null,
            "align_items": null,
            "align_self": null,
            "border": null,
            "bottom": null,
            "display": null,
            "flex": null,
            "flex_flow": null,
            "grid_area": null,
            "grid_auto_columns": null,
            "grid_auto_flow": null,
            "grid_auto_rows": null,
            "grid_column": null,
            "grid_gap": null,
            "grid_row": null,
            "grid_template_areas": null,
            "grid_template_columns": null,
            "grid_template_rows": null,
            "height": null,
            "justify_content": null,
            "justify_items": null,
            "left": null,
            "margin": null,
            "max_height": null,
            "max_width": null,
            "min_height": null,
            "min_width": null,
            "object_fit": null,
            "object_position": null,
            "order": null,
            "overflow": null,
            "overflow_x": null,
            "overflow_y": null,
            "padding": null,
            "right": null,
            "top": null,
            "visibility": null,
            "width": null
          }
        },
        "86ef623454e64be3a45fecd9f17648b3": {
          "model_module": "@jupyter-widgets/controls",
          "model_name": "ProgressStyleModel",
          "model_module_version": "1.5.0",
          "state": {
            "_model_module": "@jupyter-widgets/controls",
            "_model_module_version": "1.5.0",
            "_model_name": "ProgressStyleModel",
            "_view_count": null,
            "_view_module": "@jupyter-widgets/base",
            "_view_module_version": "1.2.0",
            "_view_name": "StyleView",
            "bar_color": null,
            "description_width": ""
          }
        },
        "d8264da8f0934cf0b9f39fb5ecb2ccbf": {
          "model_module": "@jupyter-widgets/base",
          "model_name": "LayoutModel",
          "model_module_version": "1.2.0",
          "state": {
            "_model_module": "@jupyter-widgets/base",
            "_model_module_version": "1.2.0",
            "_model_name": "LayoutModel",
            "_view_count": null,
            "_view_module": "@jupyter-widgets/base",
            "_view_module_version": "1.2.0",
            "_view_name": "LayoutView",
            "align_content": null,
            "align_items": null,
            "align_self": null,
            "border": null,
            "bottom": null,
            "display": null,
            "flex": null,
            "flex_flow": null,
            "grid_area": null,
            "grid_auto_columns": null,
            "grid_auto_flow": null,
            "grid_auto_rows": null,
            "grid_column": null,
            "grid_gap": null,
            "grid_row": null,
            "grid_template_areas": null,
            "grid_template_columns": null,
            "grid_template_rows": null,
            "height": null,
            "justify_content": null,
            "justify_items": null,
            "left": null,
            "margin": null,
            "max_height": null,
            "max_width": null,
            "min_height": null,
            "min_width": null,
            "object_fit": null,
            "object_position": null,
            "order": null,
            "overflow": null,
            "overflow_x": null,
            "overflow_y": null,
            "padding": null,
            "right": null,
            "top": null,
            "visibility": null,
            "width": null
          }
        },
        "4911603374724fc3a52b7c5168c0a367": {
          "model_module": "@jupyter-widgets/controls",
          "model_name": "DescriptionStyleModel",
          "model_module_version": "1.5.0",
          "state": {
            "_model_module": "@jupyter-widgets/controls",
            "_model_module_version": "1.5.0",
            "_model_name": "DescriptionStyleModel",
            "_view_count": null,
            "_view_module": "@jupyter-widgets/base",
            "_view_module_version": "1.2.0",
            "_view_name": "StyleView",
            "description_width": ""
          }
        },
        "c47b9049e9354bbd8e1e02e4241295ee": {
          "model_module": "@jupyter-widgets/controls",
          "model_name": "HBoxModel",
          "model_module_version": "1.5.0",
          "state": {
            "_dom_classes": [],
            "_model_module": "@jupyter-widgets/controls",
            "_model_module_version": "1.5.0",
            "_model_name": "HBoxModel",
            "_view_count": null,
            "_view_module": "@jupyter-widgets/controls",
            "_view_module_version": "1.5.0",
            "_view_name": "HBoxView",
            "box_style": "",
            "children": [
              "IPY_MODEL_65fbdb50f200438786bfbd72aafbec0e",
              "IPY_MODEL_33cf5a77011e44fc9ddf8848870c4cb2",
              "IPY_MODEL_09e1a3f45356467aa742ae7b8808043d"
            ],
            "layout": "IPY_MODEL_e9c022ee3eb04d169d9fd71391c158c7"
          }
        },
        "65fbdb50f200438786bfbd72aafbec0e": {
          "model_module": "@jupyter-widgets/controls",
          "model_name": "HTMLModel",
          "model_module_version": "1.5.0",
          "state": {
            "_dom_classes": [],
            "_model_module": "@jupyter-widgets/controls",
            "_model_module_version": "1.5.0",
            "_model_name": "HTMLModel",
            "_view_count": null,
            "_view_module": "@jupyter-widgets/controls",
            "_view_module_version": "1.5.0",
            "_view_name": "HTMLView",
            "description": "",
            "description_tooltip": null,
            "layout": "IPY_MODEL_465b1f0737754ccdba84b81e06dea45a",
            "placeholder": "​",
            "style": "IPY_MODEL_4dbb4699718e4649aaad4cfc44a902cd",
            "value": "100%"
          }
        },
        "33cf5a77011e44fc9ddf8848870c4cb2": {
          "model_module": "@jupyter-widgets/controls",
          "model_name": "FloatProgressModel",
          "model_module_version": "1.5.0",
          "state": {
            "_dom_classes": [],
            "_model_module": "@jupyter-widgets/controls",
            "_model_module_version": "1.5.0",
            "_model_name": "FloatProgressModel",
            "_view_count": null,
            "_view_module": "@jupyter-widgets/controls",
            "_view_module_version": "1.5.0",
            "_view_name": "ProgressView",
            "bar_style": "success",
            "description": "",
            "description_tooltip": null,
            "layout": "IPY_MODEL_5ad4ab26397d444799a380dc40307e86",
            "max": 166,
            "min": 0,
            "orientation": "horizontal",
            "style": "IPY_MODEL_803e37ca987a4dc0866bd2fe6d811e1f",
            "value": 166
          }
        },
        "09e1a3f45356467aa742ae7b8808043d": {
          "model_module": "@jupyter-widgets/controls",
          "model_name": "HTMLModel",
          "model_module_version": "1.5.0",
          "state": {
            "_dom_classes": [],
            "_model_module": "@jupyter-widgets/controls",
            "_model_module_version": "1.5.0",
            "_model_name": "HTMLModel",
            "_view_count": null,
            "_view_module": "@jupyter-widgets/controls",
            "_view_module_version": "1.5.0",
            "_view_name": "HTMLView",
            "description": "",
            "description_tooltip": null,
            "layout": "IPY_MODEL_b4e413b5b1744db0bf7a385eaaedf7d0",
            "placeholder": "​",
            "style": "IPY_MODEL_dd89199a2a7241219134e2fff9ae7115",
            "value": " 166/166 [00:02&lt;00:00, 66.65it/s]"
          }
        },
        "e9c022ee3eb04d169d9fd71391c158c7": {
          "model_module": "@jupyter-widgets/base",
          "model_name": "LayoutModel",
          "model_module_version": "1.2.0",
          "state": {
            "_model_module": "@jupyter-widgets/base",
            "_model_module_version": "1.2.0",
            "_model_name": "LayoutModel",
            "_view_count": null,
            "_view_module": "@jupyter-widgets/base",
            "_view_module_version": "1.2.0",
            "_view_name": "LayoutView",
            "align_content": null,
            "align_items": null,
            "align_self": null,
            "border": null,
            "bottom": null,
            "display": null,
            "flex": null,
            "flex_flow": null,
            "grid_area": null,
            "grid_auto_columns": null,
            "grid_auto_flow": null,
            "grid_auto_rows": null,
            "grid_column": null,
            "grid_gap": null,
            "grid_row": null,
            "grid_template_areas": null,
            "grid_template_columns": null,
            "grid_template_rows": null,
            "height": null,
            "justify_content": null,
            "justify_items": null,
            "left": null,
            "margin": null,
            "max_height": null,
            "max_width": null,
            "min_height": null,
            "min_width": null,
            "object_fit": null,
            "object_position": null,
            "order": null,
            "overflow": null,
            "overflow_x": null,
            "overflow_y": null,
            "padding": null,
            "right": null,
            "top": null,
            "visibility": null,
            "width": null
          }
        },
        "465b1f0737754ccdba84b81e06dea45a": {
          "model_module": "@jupyter-widgets/base",
          "model_name": "LayoutModel",
          "model_module_version": "1.2.0",
          "state": {
            "_model_module": "@jupyter-widgets/base",
            "_model_module_version": "1.2.0",
            "_model_name": "LayoutModel",
            "_view_count": null,
            "_view_module": "@jupyter-widgets/base",
            "_view_module_version": "1.2.0",
            "_view_name": "LayoutView",
            "align_content": null,
            "align_items": null,
            "align_self": null,
            "border": null,
            "bottom": null,
            "display": null,
            "flex": null,
            "flex_flow": null,
            "grid_area": null,
            "grid_auto_columns": null,
            "grid_auto_flow": null,
            "grid_auto_rows": null,
            "grid_column": null,
            "grid_gap": null,
            "grid_row": null,
            "grid_template_areas": null,
            "grid_template_columns": null,
            "grid_template_rows": null,
            "height": null,
            "justify_content": null,
            "justify_items": null,
            "left": null,
            "margin": null,
            "max_height": null,
            "max_width": null,
            "min_height": null,
            "min_width": null,
            "object_fit": null,
            "object_position": null,
            "order": null,
            "overflow": null,
            "overflow_x": null,
            "overflow_y": null,
            "padding": null,
            "right": null,
            "top": null,
            "visibility": null,
            "width": null
          }
        },
        "4dbb4699718e4649aaad4cfc44a902cd": {
          "model_module": "@jupyter-widgets/controls",
          "model_name": "DescriptionStyleModel",
          "model_module_version": "1.5.0",
          "state": {
            "_model_module": "@jupyter-widgets/controls",
            "_model_module_version": "1.5.0",
            "_model_name": "DescriptionStyleModel",
            "_view_count": null,
            "_view_module": "@jupyter-widgets/base",
            "_view_module_version": "1.2.0",
            "_view_name": "StyleView",
            "description_width": ""
          }
        },
        "5ad4ab26397d444799a380dc40307e86": {
          "model_module": "@jupyter-widgets/base",
          "model_name": "LayoutModel",
          "model_module_version": "1.2.0",
          "state": {
            "_model_module": "@jupyter-widgets/base",
            "_model_module_version": "1.2.0",
            "_model_name": "LayoutModel",
            "_view_count": null,
            "_view_module": "@jupyter-widgets/base",
            "_view_module_version": "1.2.0",
            "_view_name": "LayoutView",
            "align_content": null,
            "align_items": null,
            "align_self": null,
            "border": null,
            "bottom": null,
            "display": null,
            "flex": null,
            "flex_flow": null,
            "grid_area": null,
            "grid_auto_columns": null,
            "grid_auto_flow": null,
            "grid_auto_rows": null,
            "grid_column": null,
            "grid_gap": null,
            "grid_row": null,
            "grid_template_areas": null,
            "grid_template_columns": null,
            "grid_template_rows": null,
            "height": null,
            "justify_content": null,
            "justify_items": null,
            "left": null,
            "margin": null,
            "max_height": null,
            "max_width": null,
            "min_height": null,
            "min_width": null,
            "object_fit": null,
            "object_position": null,
            "order": null,
            "overflow": null,
            "overflow_x": null,
            "overflow_y": null,
            "padding": null,
            "right": null,
            "top": null,
            "visibility": null,
            "width": null
          }
        },
        "803e37ca987a4dc0866bd2fe6d811e1f": {
          "model_module": "@jupyter-widgets/controls",
          "model_name": "ProgressStyleModel",
          "model_module_version": "1.5.0",
          "state": {
            "_model_module": "@jupyter-widgets/controls",
            "_model_module_version": "1.5.0",
            "_model_name": "ProgressStyleModel",
            "_view_count": null,
            "_view_module": "@jupyter-widgets/base",
            "_view_module_version": "1.2.0",
            "_view_name": "StyleView",
            "bar_color": null,
            "description_width": ""
          }
        },
        "b4e413b5b1744db0bf7a385eaaedf7d0": {
          "model_module": "@jupyter-widgets/base",
          "model_name": "LayoutModel",
          "model_module_version": "1.2.0",
          "state": {
            "_model_module": "@jupyter-widgets/base",
            "_model_module_version": "1.2.0",
            "_model_name": "LayoutModel",
            "_view_count": null,
            "_view_module": "@jupyter-widgets/base",
            "_view_module_version": "1.2.0",
            "_view_name": "LayoutView",
            "align_content": null,
            "align_items": null,
            "align_self": null,
            "border": null,
            "bottom": null,
            "display": null,
            "flex": null,
            "flex_flow": null,
            "grid_area": null,
            "grid_auto_columns": null,
            "grid_auto_flow": null,
            "grid_auto_rows": null,
            "grid_column": null,
            "grid_gap": null,
            "grid_row": null,
            "grid_template_areas": null,
            "grid_template_columns": null,
            "grid_template_rows": null,
            "height": null,
            "justify_content": null,
            "justify_items": null,
            "left": null,
            "margin": null,
            "max_height": null,
            "max_width": null,
            "min_height": null,
            "min_width": null,
            "object_fit": null,
            "object_position": null,
            "order": null,
            "overflow": null,
            "overflow_x": null,
            "overflow_y": null,
            "padding": null,
            "right": null,
            "top": null,
            "visibility": null,
            "width": null
          }
        },
        "dd89199a2a7241219134e2fff9ae7115": {
          "model_module": "@jupyter-widgets/controls",
          "model_name": "DescriptionStyleModel",
          "model_module_version": "1.5.0",
          "state": {
            "_model_module": "@jupyter-widgets/controls",
            "_model_module_version": "1.5.0",
            "_model_name": "DescriptionStyleModel",
            "_view_count": null,
            "_view_module": "@jupyter-widgets/base",
            "_view_module_version": "1.2.0",
            "_view_name": "StyleView",
            "description_width": ""
          }
        },
        "213a7226abe2439f92a5ba4b503d8053": {
          "model_module": "@jupyter-widgets/controls",
          "model_name": "HBoxModel",
          "model_module_version": "1.5.0",
          "state": {
            "_dom_classes": [],
            "_model_module": "@jupyter-widgets/controls",
            "_model_module_version": "1.5.0",
            "_model_name": "HBoxModel",
            "_view_count": null,
            "_view_module": "@jupyter-widgets/controls",
            "_view_module_version": "1.5.0",
            "_view_name": "HBoxView",
            "box_style": "",
            "children": [
              "IPY_MODEL_40cdeea7e3f24d2f982414c06baca981",
              "IPY_MODEL_a92e9dce657a41f589634993262aedac",
              "IPY_MODEL_557c5a67d5b443ee8cea39d3261a80f7"
            ],
            "layout": "IPY_MODEL_f338c54948534ebd8a7b37912d9ec37b"
          }
        },
        "40cdeea7e3f24d2f982414c06baca981": {
          "model_module": "@jupyter-widgets/controls",
          "model_name": "HTMLModel",
          "model_module_version": "1.5.0",
          "state": {
            "_dom_classes": [],
            "_model_module": "@jupyter-widgets/controls",
            "_model_module_version": "1.5.0",
            "_model_name": "HTMLModel",
            "_view_count": null,
            "_view_module": "@jupyter-widgets/controls",
            "_view_module_version": "1.5.0",
            "_view_name": "HTMLView",
            "description": "",
            "description_tooltip": null,
            "layout": "IPY_MODEL_1a8019abc9f1437b9ac332e44b9600fa",
            "placeholder": "​",
            "style": "IPY_MODEL_73918bd5dc274a428e89b8afe43810f0",
            "value": "100%"
          }
        },
        "a92e9dce657a41f589634993262aedac": {
          "model_module": "@jupyter-widgets/controls",
          "model_name": "FloatProgressModel",
          "model_module_version": "1.5.0",
          "state": {
            "_dom_classes": [],
            "_model_module": "@jupyter-widgets/controls",
            "_model_module_version": "1.5.0",
            "_model_name": "FloatProgressModel",
            "_view_count": null,
            "_view_module": "@jupyter-widgets/controls",
            "_view_module_version": "1.5.0",
            "_view_name": "ProgressView",
            "bar_style": "success",
            "description": "",
            "description_tooltip": null,
            "layout": "IPY_MODEL_0a4eec943b7043dbac62c2a94eff474f",
            "max": 166,
            "min": 0,
            "orientation": "horizontal",
            "style": "IPY_MODEL_b94e4849ce504ca7baea04ea6ee43965",
            "value": 166
          }
        },
        "557c5a67d5b443ee8cea39d3261a80f7": {
          "model_module": "@jupyter-widgets/controls",
          "model_name": "HTMLModel",
          "model_module_version": "1.5.0",
          "state": {
            "_dom_classes": [],
            "_model_module": "@jupyter-widgets/controls",
            "_model_module_version": "1.5.0",
            "_model_name": "HTMLModel",
            "_view_count": null,
            "_view_module": "@jupyter-widgets/controls",
            "_view_module_version": "1.5.0",
            "_view_name": "HTMLView",
            "description": "",
            "description_tooltip": null,
            "layout": "IPY_MODEL_a0280a4ffc0b41949db4dd5c6a8c7eb7",
            "placeholder": "​",
            "style": "IPY_MODEL_ba0b273998d14398805afcb1bd96f314",
            "value": " 166/166 [00:09&lt;00:00, 17.20it/s]"
          }
        },
        "f338c54948534ebd8a7b37912d9ec37b": {
          "model_module": "@jupyter-widgets/base",
          "model_name": "LayoutModel",
          "model_module_version": "1.2.0",
          "state": {
            "_model_module": "@jupyter-widgets/base",
            "_model_module_version": "1.2.0",
            "_model_name": "LayoutModel",
            "_view_count": null,
            "_view_module": "@jupyter-widgets/base",
            "_view_module_version": "1.2.0",
            "_view_name": "LayoutView",
            "align_content": null,
            "align_items": null,
            "align_self": null,
            "border": null,
            "bottom": null,
            "display": null,
            "flex": null,
            "flex_flow": null,
            "grid_area": null,
            "grid_auto_columns": null,
            "grid_auto_flow": null,
            "grid_auto_rows": null,
            "grid_column": null,
            "grid_gap": null,
            "grid_row": null,
            "grid_template_areas": null,
            "grid_template_columns": null,
            "grid_template_rows": null,
            "height": null,
            "justify_content": null,
            "justify_items": null,
            "left": null,
            "margin": null,
            "max_height": null,
            "max_width": null,
            "min_height": null,
            "min_width": null,
            "object_fit": null,
            "object_position": null,
            "order": null,
            "overflow": null,
            "overflow_x": null,
            "overflow_y": null,
            "padding": null,
            "right": null,
            "top": null,
            "visibility": null,
            "width": null
          }
        },
        "1a8019abc9f1437b9ac332e44b9600fa": {
          "model_module": "@jupyter-widgets/base",
          "model_name": "LayoutModel",
          "model_module_version": "1.2.0",
          "state": {
            "_model_module": "@jupyter-widgets/base",
            "_model_module_version": "1.2.0",
            "_model_name": "LayoutModel",
            "_view_count": null,
            "_view_module": "@jupyter-widgets/base",
            "_view_module_version": "1.2.0",
            "_view_name": "LayoutView",
            "align_content": null,
            "align_items": null,
            "align_self": null,
            "border": null,
            "bottom": null,
            "display": null,
            "flex": null,
            "flex_flow": null,
            "grid_area": null,
            "grid_auto_columns": null,
            "grid_auto_flow": null,
            "grid_auto_rows": null,
            "grid_column": null,
            "grid_gap": null,
            "grid_row": null,
            "grid_template_areas": null,
            "grid_template_columns": null,
            "grid_template_rows": null,
            "height": null,
            "justify_content": null,
            "justify_items": null,
            "left": null,
            "margin": null,
            "max_height": null,
            "max_width": null,
            "min_height": null,
            "min_width": null,
            "object_fit": null,
            "object_position": null,
            "order": null,
            "overflow": null,
            "overflow_x": null,
            "overflow_y": null,
            "padding": null,
            "right": null,
            "top": null,
            "visibility": null,
            "width": null
          }
        },
        "73918bd5dc274a428e89b8afe43810f0": {
          "model_module": "@jupyter-widgets/controls",
          "model_name": "DescriptionStyleModel",
          "model_module_version": "1.5.0",
          "state": {
            "_model_module": "@jupyter-widgets/controls",
            "_model_module_version": "1.5.0",
            "_model_name": "DescriptionStyleModel",
            "_view_count": null,
            "_view_module": "@jupyter-widgets/base",
            "_view_module_version": "1.2.0",
            "_view_name": "StyleView",
            "description_width": ""
          }
        },
        "0a4eec943b7043dbac62c2a94eff474f": {
          "model_module": "@jupyter-widgets/base",
          "model_name": "LayoutModel",
          "model_module_version": "1.2.0",
          "state": {
            "_model_module": "@jupyter-widgets/base",
            "_model_module_version": "1.2.0",
            "_model_name": "LayoutModel",
            "_view_count": null,
            "_view_module": "@jupyter-widgets/base",
            "_view_module_version": "1.2.0",
            "_view_name": "LayoutView",
            "align_content": null,
            "align_items": null,
            "align_self": null,
            "border": null,
            "bottom": null,
            "display": null,
            "flex": null,
            "flex_flow": null,
            "grid_area": null,
            "grid_auto_columns": null,
            "grid_auto_flow": null,
            "grid_auto_rows": null,
            "grid_column": null,
            "grid_gap": null,
            "grid_row": null,
            "grid_template_areas": null,
            "grid_template_columns": null,
            "grid_template_rows": null,
            "height": null,
            "justify_content": null,
            "justify_items": null,
            "left": null,
            "margin": null,
            "max_height": null,
            "max_width": null,
            "min_height": null,
            "min_width": null,
            "object_fit": null,
            "object_position": null,
            "order": null,
            "overflow": null,
            "overflow_x": null,
            "overflow_y": null,
            "padding": null,
            "right": null,
            "top": null,
            "visibility": null,
            "width": null
          }
        },
        "b94e4849ce504ca7baea04ea6ee43965": {
          "model_module": "@jupyter-widgets/controls",
          "model_name": "ProgressStyleModel",
          "model_module_version": "1.5.0",
          "state": {
            "_model_module": "@jupyter-widgets/controls",
            "_model_module_version": "1.5.0",
            "_model_name": "ProgressStyleModel",
            "_view_count": null,
            "_view_module": "@jupyter-widgets/base",
            "_view_module_version": "1.2.0",
            "_view_name": "StyleView",
            "bar_color": null,
            "description_width": ""
          }
        },
        "a0280a4ffc0b41949db4dd5c6a8c7eb7": {
          "model_module": "@jupyter-widgets/base",
          "model_name": "LayoutModel",
          "model_module_version": "1.2.0",
          "state": {
            "_model_module": "@jupyter-widgets/base",
            "_model_module_version": "1.2.0",
            "_model_name": "LayoutModel",
            "_view_count": null,
            "_view_module": "@jupyter-widgets/base",
            "_view_module_version": "1.2.0",
            "_view_name": "LayoutView",
            "align_content": null,
            "align_items": null,
            "align_self": null,
            "border": null,
            "bottom": null,
            "display": null,
            "flex": null,
            "flex_flow": null,
            "grid_area": null,
            "grid_auto_columns": null,
            "grid_auto_flow": null,
            "grid_auto_rows": null,
            "grid_column": null,
            "grid_gap": null,
            "grid_row": null,
            "grid_template_areas": null,
            "grid_template_columns": null,
            "grid_template_rows": null,
            "height": null,
            "justify_content": null,
            "justify_items": null,
            "left": null,
            "margin": null,
            "max_height": null,
            "max_width": null,
            "min_height": null,
            "min_width": null,
            "object_fit": null,
            "object_position": null,
            "order": null,
            "overflow": null,
            "overflow_x": null,
            "overflow_y": null,
            "padding": null,
            "right": null,
            "top": null,
            "visibility": null,
            "width": null
          }
        },
        "ba0b273998d14398805afcb1bd96f314": {
          "model_module": "@jupyter-widgets/controls",
          "model_name": "DescriptionStyleModel",
          "model_module_version": "1.5.0",
          "state": {
            "_model_module": "@jupyter-widgets/controls",
            "_model_module_version": "1.5.0",
            "_model_name": "DescriptionStyleModel",
            "_view_count": null,
            "_view_module": "@jupyter-widgets/base",
            "_view_module_version": "1.2.0",
            "_view_name": "StyleView",
            "description_width": ""
          }
        }
      }
    }
  },
  "cells": [
    {
      "cell_type": "markdown",
      "source": [
        "# Mounting the Google drive"
      ],
      "metadata": {
        "id": "_VQkszdernS-"
      }
    },
    {
      "cell_type": "code",
      "execution_count": 2,
      "metadata": {
        "colab": {
          "base_uri": "https://localhost:8080/"
        },
        "id": "_qfA52vCgdcv",
        "outputId": "e7ffa65f-1411-4d8a-8282-20021d550e17"
      },
      "outputs": [
        {
          "output_type": "stream",
          "name": "stdout",
          "text": [
            "Mounted at /content/drive/\n",
            "/content/drive/MyDrive/CHD\n"
          ]
        }
      ],
      "source": [
        "from google.colab import drive\n",
        "drive.mount('/content/drive/')\n",
        "\n",
        "%cd /content/drive/MyDrive/CHD"
      ]
    },
    {
      "cell_type": "markdown",
      "source": [
        "# Introduction\n",
        "\n",
        "The dataset was downloaded from this Kaggle [link](https://www.kaggle.com/competitions/congenital-heart-disease/data). The dataset has contains X-Ray images with 4 Classes ASD (Atrial Septal Defect), Normal X-Ray, VSD(Ventricular Septal Defect) and PDA (Patent Ductus Arteriosus), Each classes has around 200 Images. In this notebook we will preprocess the image and train Models so that we can any unknown image into these 4 classes.\n",
        "\n",
        "In our next cell, we will unzip the downloaded dataset."
      ],
      "metadata": {
        "id": "o1BgbOaZsHCN"
      }
    },
    {
      "cell_type": "code",
      "source": [
        "!unzip /content/drive/MyDrive/CHD/Data/preprocessed_dataset.zip -d /content/drive/MyDrive/CHD/Data"
      ],
      "metadata": {
        "id": "ejysOnPhgrpr"
      },
      "execution_count": null,
      "outputs": []
    },
    {
      "cell_type": "markdown",
      "source": [
        "# Preprocessing\n",
        "\n",
        "Before we can proceed with training we need to first preprocess our images, in the next cell we will first import all the preprocessing library that we will need."
      ],
      "metadata": {
        "id": "Au2_ryfltgJo"
      }
    },
    {
      "cell_type": "code",
      "source": [
        "import os\n",
        "import cv2\n",
        "import numpy as np\n",
        "from sklearn.model_selection import train_test_split\n",
        "from tqdm import tqdm"
      ],
      "metadata": {
        "id": "aCvzWA8msbLR"
      },
      "execution_count": null,
      "outputs": []
    },
    {
      "cell_type": "code",
      "source": [
        "# !rm -rf /content/drive/MyDrive/CHD/preprocessed_dataset"
      ],
      "metadata": {
        "id": "cqtyiX_q_f9b"
      },
      "execution_count": null,
      "outputs": []
    },
    {
      "cell_type": "markdown",
      "source": [
        "After we have the dataset, first we need to split the dataset into training and validation set, so that during data augmentation, we can be sure that there are no data leakage. We are splitting the dataset into 80-20 ratio."
      ],
      "metadata": {
        "id": "7LixsieJt8ET"
      }
    },
    {
      "cell_type": "code",
      "source": [
        "input_dir = '/content/drive/MyDrive/CHD/Data/Data'\n",
        "train_size=0.8\n",
        "labels = []\n",
        "filenames = []\n",
        "for class_name in os.listdir(input_dir):\n",
        "  class_dir = os.path.join(input_dir, class_name)\n",
        "\n",
        "\n",
        "  for filename in tqdm(os.listdir(class_dir)):\n",
        "    labels.append(class_name)\n",
        "    filenames.append(filename)\n",
        "\n",
        "train_labels, val_labels, train_filenames, val_filenames = train_test_split(labels, filenames, train_size=train_size)"
      ],
      "metadata": {
        "colab": {
          "base_uri": "https://localhost:8080/"
        },
        "id": "WNIFNE_FBiRO",
        "outputId": "6ffb1a0c-c785-4ee9-ec84-ccc4373cdaee"
      },
      "execution_count": null,
      "outputs": [
        {
          "output_type": "stream",
          "name": "stderr",
          "text": [
            "100%|██████████| 194/194 [00:00<00:00, 896139.84it/s]\n",
            "100%|██████████| 208/208 [00:00<00:00, 1201673.87it/s]\n",
            "100%|██████████| 216/216 [00:00<00:00, 1167486.68it/s]\n",
            "100%|██████████| 210/210 [00:00<00:00, 1080740.91it/s]\n"
          ]
        }
      ]
    },
    {
      "cell_type": "markdown",
      "source": [
        "## Preprocessing steps\n",
        "\n",
        "*   We already have the train_labels, val_labels, train_filenames, val_filenames from our previous cell.\n",
        "*   At first we will loop over the train_labels and train_filenames.\n",
        "*   We will read the images with it's path using openCV as gray scale image.\n",
        "*   We are extracting the height and width of images.\n",
        "*   Then we will scale those images keeping the ratio of width and height as before, so that we dont lose any data.\n",
        "*   We have equalized image histogram.\n",
        "*   Used OpenCV Clahe for Contrast enhancing.\n",
        "*   Used Median Blur to reduce the noises.\n",
        "*   Rotated each image by 10 degrees.\n",
        "*   Then normalised the images by dividing it by 255.\n",
        "*   At the end, we are stacking those gray scale images to make it into 3 channels instead of 1, because the Neural Network we will train takes 3 Channels.\n",
        "*   Finally, we will save the these preprocesses images as well as just resized and normalized images as numpy file.\n",
        "\n"
      ],
      "metadata": {
        "id": "dzbyKCpzuVLM"
      }
    },
    {
      "cell_type": "code",
      "source": [
        "def preprocess_images(input_dir, output_train_dir):\n",
        "    # Create output directories if they don't exist\n",
        "    os.makedirs(output_train_dir, exist_ok=True)\n",
        "\n",
        "    count = 0\n",
        "\n",
        "    for train_label, train_filename in tqdm(zip(val_labels, val_filenames)):\n",
        "        train_image_path = os.path.join(input_dir, train_label, train_filename)\n",
        "\n",
        "        output_train_class_dir = os.path.join(output_train_dir, train_label)\n",
        "\n",
        "\n",
        "        image = cv2.imread(train_image_path, cv2.IMREAD_GRAYSCALE)\n",
        "\n",
        "        height, width = image.shape[:2]\n",
        "\n",
        "        scaling_factor = 300 / min(height, width)\n",
        "\n",
        "        image = cv2.resize(image, None, fx=scaling_factor, fy=scaling_factor)\n",
        "\n",
        "        # equalized_image_with_blurred = cv2.equalizeHist(image)\n",
        "\n",
        "        # # Apply CLAHE\n",
        "        # clahe = cv2.createCLAHE(clipLimit=2.0, tileGridSize=(8, 8))\n",
        "        # clahe_image = clahe.apply(equalized_image_with_blurred)\n",
        "\n",
        "        # blurred_image = cv2.medianBlur(clahe_image, 3)\n",
        "\n",
        "        # rows, cols = blurred_image.shape\n",
        "        # rotation_matrix = cv2.getRotationMatrix2D((cols / 2, rows / 2), 10, 1)\n",
        "        # rotated_image = cv2.warpAffine(blurred_image, rotation_matrix, (cols, rows))\n",
        "\n",
        "\n",
        "        # # # Normalize pixel values\n",
        "        image = image.astype(np.float32) / 255.0\n",
        "        # normalized_image_clahe_blurred = blurred_image.astype(np.float32) / 255.0\n",
        "\n",
        "\n",
        "        rgb_image = cv2.merge([image, image, image])\n",
        "        # rgb_image_clahe = cv2.merge([normalized_image_clahe_blurred, normalized_image_clahe_blurred, normalized_image_clahe_blurred])\n",
        "\n",
        "        train_filename = train_filename.split(\".\")[0]\n",
        "\n",
        "        # train_file_name_aug = train_filename + \"_augmented\"\n",
        "\n",
        "        os.makedirs(output_train_class_dir, exist_ok=True)\n",
        "        # os.makedirs(output_val_class_dir, exist_ok=True)\n",
        "\n",
        "        output_train_path = os.path.join(output_train_class_dir, train_filename)\n",
        "        # output_train_path_aug = os.path.join(output_train_class_dir, train_file_name_aug)\n",
        "\n",
        "        np.save(output_train_path, rgb_image)\n",
        "        # np.save(output_train_path_aug, rgb_image_clahe)"
      ],
      "metadata": {
        "id": "_ikelHxECuVQ"
      },
      "execution_count": null,
      "outputs": []
    },
    {
      "cell_type": "markdown",
      "source": [
        "Here we are calling the above function, so that we can create and preprocess train and validation data."
      ],
      "metadata": {
        "id": "mSTQcWBLxtTW"
      }
    },
    {
      "cell_type": "code",
      "source": [
        "# Example usage\n",
        "input_dir = 'Data/Data'\n",
        "output_train_dir = 'preprocessed_dataset/val'\n",
        "preprocess_images(input_dir, output_train_dir)"
      ],
      "metadata": {
        "colab": {
          "base_uri": "https://localhost:8080/",
          "height": 49,
          "referenced_widgets": [
            "efb8a48a2fc34937b671d1f99dc49942",
            "78434f9d1a5345698391b335b7a2f6b6",
            "b763cbaf6a4a47efa8bd7d567b0fefbe",
            "221cfa88641b48868965ca7767e474f5",
            "6cfc2cb4aa414442b15a9bb3b0613b9b",
            "aa79511adb714decada5b3cd83af77f3",
            "ed8219be144b4ea9866147cfd31c12fe",
            "3a5f0ed25d0148459c08ac048dea8067",
            "b4892a10b611406c8aa6c0a846324df7",
            "ffa1bac1f580423c8a46e23825c807c1",
            "16580894d51646efa461fc02f013926f"
          ]
        },
        "id": "squUBywtDoki",
        "outputId": "d28ad421-ef76-4ca8-8993-df61a66de8e2"
      },
      "execution_count": null,
      "outputs": [
        {
          "output_type": "display_data",
          "data": {
            "text/plain": [
              "0it [00:00, ?it/s]"
            ],
            "application/vnd.jupyter.widget-view+json": {
              "version_major": 2,
              "version_minor": 0,
              "model_id": "efb8a48a2fc34937b671d1f99dc49942"
            }
          },
          "metadata": {}
        }
      ]
    },
    {
      "cell_type": "code",
      "source": [
        "len(os.listdir(\"/content/drive/MyDrive/CHD/preprocessed_dataset/train/Normal\"))"
      ],
      "metadata": {
        "colab": {
          "base_uri": "https://localhost:8080/"
        },
        "id": "TGPuKHubItdB",
        "outputId": "a14709ac-6e18-4b1d-acc3-8caad910b73e"
      },
      "execution_count": null,
      "outputs": [
        {
          "output_type": "execute_result",
          "data": {
            "text/plain": [
              "334"
            ]
          },
          "metadata": {},
          "execution_count": 40
        }
      ]
    },
    {
      "cell_type": "markdown",
      "source": [
        "Plotting our preprocessed image"
      ],
      "metadata": {
        "id": "yWgdkOgmx4Md"
      }
    },
    {
      "cell_type": "code",
      "source": [
        "from matplotlib import pyplot as plt\n",
        "\n",
        "image = np.load(\"/content/drive/MyDrive/CHD/preprocessed_dataset/val/ASD/ASD01.npy\")\n",
        "\n",
        "print(image.shape)\n",
        "\n",
        "plt.imshow(image, cmap = 'bone')"
      ],
      "metadata": {
        "colab": {
          "base_uri": "https://localhost:8080/",
          "height": 470
        },
        "id": "DTqKV1M5_KvL",
        "outputId": "02b2b77e-a9da-4acd-95cb-b5518d9f4951"
      },
      "execution_count": null,
      "outputs": [
        {
          "output_type": "stream",
          "name": "stdout",
          "text": [
            "(360, 300, 3)\n"
          ]
        },
        {
          "output_type": "execute_result",
          "data": {
            "text/plain": [
              "<matplotlib.image.AxesImage at 0x7db19f821720>"
            ]
          },
          "metadata": {},
          "execution_count": 28
        },
        {
          "output_type": "display_data",
          "data": {
            "text/plain": [
              "<Figure size 640x480 with 1 Axes>"
            ],
            "image/png": "[encoded data removed]"
          },
          "metadata": {}
        }
      ]
    },
    {
      "cell_type": "markdown",
      "source": [
        "# Dataset Preparation\n",
        "In this cell we are importing all the neccessary libraries for training the model."
      ],
      "metadata": {
        "id": "BJWd_TzYx_CV"
      }
    },
    {
      "cell_type": "code",
      "source": [
        "import os\n",
        "from PIL import Image\n",
        "from matplotlib import pyplot as plt\n",
        "import torch\n",
        "import torchvision\n",
        "from torchvision import datasets, transforms\n",
        "from torch.utils.data import DataLoader, random_split, Dataset\n",
        "from tqdm.notebook import tqdm\n",
        "torch.manual_seed(42)"
      ],
      "metadata": {
        "id": "xDACL1M2hIYM",
        "colab": {
          "base_uri": "https://localhost:8080/"
        },
        "outputId": "009b2726-44f7-4ff7-8972-ec573430e1ac"
      },
      "execution_count": 3,
      "outputs": [
        {
          "output_type": "execute_result",
          "data": {
            "text/plain": [
              "<torch._C.Generator at 0x782fb07961f0>"
            ]
          },
          "metadata": {},
          "execution_count": 3
        }
      ]
    },
    {
      "cell_type": "markdown",
      "source": [
        "## Creating the dataloader\n",
        "\n",
        "here we have train and validation transform, where\n",
        "\n",
        "\n",
        "*   We are converting train dataset into tensor, rotating it by 10 degrees, and scaling it. Then cropping it by centre.\n",
        "*   In validation transform, we are converting it into tensor and cropping it by centre.\n",
        "\n",
        "The cropping part also works as Region of interest because, the heart is mostly at the middle of the chest X-Ray.\n",
        "\n"
      ],
      "metadata": {
        "id": "_vwuFBg4yWNv"
      }
    },
    {
      "cell_type": "code",
      "source": [
        "train_transform = transforms.Compose([\n",
        "    transforms.ToTensor(),\n",
        "    transforms.RandomAffine(degrees=10, scale=(0.9, 1.1)),  # Random affine transformation\n",
        "    transforms.CenterCrop((299, 299)),  # Random resized crop# Convert the image to a PyTorch tensor\n",
        "])\n",
        "\n",
        "\n",
        "val_transform = transforms.Compose([\n",
        "    transforms.ToTensor(),\n",
        "    transforms.CenterCrop((299, 299)),\n",
        "])"
      ],
      "metadata": {
        "id": "VKCHszfDq4CL"
      },
      "execution_count": 4,
      "outputs": []
    },
    {
      "cell_type": "markdown",
      "source": [
        "Creating a load_file function which will be used to load the files as loader argument of torch DatasetFolder method."
      ],
      "metadata": {
        "id": "D8rX_fXUznYQ"
      }
    },
    {
      "cell_type": "code",
      "source": [
        "import numpy as np\n",
        "\n",
        "def load_file(path):\n",
        "  return np.load(path).astype(np.float32)"
      ],
      "metadata": {
        "id": "BiZ84ek5rgGM"
      },
      "execution_count": 5,
      "outputs": []
    },
    {
      "cell_type": "markdown",
      "source": [
        "Over here We are creating, train_dataset and val_dataset using Pytorch DatasetFolder, where each class gets converted into categorical form as following - ASD = 0, Normal = 1, PDA = 2, VSD = 3.\n",
        "\n",
        "We can see in the output cell that, our train dataset has 662 classes and val dataset has 166 classes."
      ],
      "metadata": {
        "id": "aY2u36-az314"
      }
    },
    {
      "cell_type": "code",
      "source": [
        "\n",
        "# datasets.DatasetFolder.make_dataset(directory=\"Data\", class_to_idx={'ASD': 1, 'Normal': 0, 'PDA': 2, 'VSD': 3})\n",
        "\n",
        "# Instantiate the DatasetFolder with proper class labels\n",
        "train_dataset = datasets.DatasetFolder(\n",
        "    root=\"preprocessed_dataset/train\",\n",
        "    loader=load_file,\n",
        "    extensions='.npy',\n",
        "    transform=train_transform,\n",
        ")\n",
        "val_dataset = datasets.DatasetFolder(\n",
        "    root=\"preprocessed_dataset/val\",\n",
        "    loader=load_file,\n",
        "    extensions='.npy',\n",
        "    transform=train_transform,\n",
        ")\n",
        "\n",
        "# Number of classes for multi-class classification\n",
        "num_classes = len(train_dataset.classes)\n",
        "\n",
        "print(\"Number of classes:\", num_classes)\n",
        "print(\"train dataset: \", len(train_dataset))\n",
        "print(\"val dataset: \", len(val_dataset))"
      ],
      "metadata": {
        "colab": {
          "base_uri": "https://localhost:8080/"
        },
        "id": "UARpSttFhxsa",
        "outputId": "76dbef5f-d971-40c8-830b-70a7c580dba5"
      },
      "execution_count": null,
      "outputs": [
        {
          "output_type": "stream",
          "name": "stdout",
          "text": [
            "Number of classes: 4\n",
            "train dataset:  662\n",
            "val dataset:  166\n"
          ]
        }
      ]
    },
    {
      "cell_type": "code",
      "source": [
        "plt.imshow(train_dataset[3][0].squeeze(dim = 0).permute(1, 2, 0), cmap = \"bone\")"
      ],
      "metadata": {
        "colab": {
          "base_uri": "https://localhost:8080/",
          "height": 452
        },
        "id": "fc2S8FkkzPeU",
        "outputId": "440f8adc-a4c4-42cd-fbb9-1b7fa753d02d"
      },
      "execution_count": null,
      "outputs": [
        {
          "output_type": "execute_result",
          "data": {
            "text/plain": [
              "<matplotlib.image.AxesImage at 0x7db19c4abe80>"
            ]
          },
          "metadata": {},
          "execution_count": 112
        },
        {
          "output_type": "display_data",
          "data": {
            "text/plain": [
              "<Figure size 640x480 with 1 Axes>"
            ],
            "image/png": "[encoded data removed]"
          },
          "metadata": {}
        }
      ]
    },
    {
      "cell_type": "markdown",
      "source": [
        "At the end we will create our train_loader and val_loader to feed it into the Neural Net."
      ],
      "metadata": {
        "id": "rVjMM9t11PU1"
      }
    },
    {
      "cell_type": "code",
      "source": [
        "batch_size = 16\n",
        "\n",
        "train_loader = DataLoader(train_dataset, batch_size=batch_size, shuffle=True)\n",
        "val_loader = DataLoader(val_dataset, batch_size=batch_size, shuffle=False)"
      ],
      "metadata": {
        "id": "H9xpdeaRw_g_"
      },
      "execution_count": null,
      "outputs": []
    },
    {
      "cell_type": "markdown",
      "source": [
        "# Modelling"
      ],
      "metadata": {
        "id": "j_rJ7fPE1b6-"
      }
    },
    {
      "cell_type": "markdown",
      "source": [
        "Over here we are defining a CHDModelResnet class, which will be our ResNet50 model with it's pretrained weights."
      ],
      "metadata": {
        "id": "3I4iyS9s1lK1"
      }
    },
    {
      "cell_type": "code",
      "source": [
        "class CHDModelResnet(torch.nn.Module):\n",
        "    def __init__(self, num_classes):\n",
        "        super(CHDModelResnet, self).__init__()\n",
        "        self.model = torchvision.models.resnet50(pretrained=True)\n",
        "        num_ftrs = self.model.fc.in_features\n",
        "        self.model.fc = torch.nn.Linear(in_features=num_ftrs, out_features=num_classes, bias=True)\n",
        "\n",
        "    def forward(self, x):\n",
        "        return self.model(x)\n"
      ],
      "metadata": {
        "id": "SWPw6SRHxDOn"
      },
      "execution_count": 3,
      "outputs": []
    },
    {
      "cell_type": "markdown",
      "source": [
        "Installing efficientnet_pytorch library"
      ],
      "metadata": {
        "id": "5RuZoZXm15Hf"
      }
    },
    {
      "cell_type": "code",
      "source": [
        "!pip install efficientnet_pytorch"
      ],
      "metadata": {
        "id": "OvInsaFGVfuA",
        "colab": {
          "base_uri": "https://localhost:8080/"
        },
        "outputId": "a84971e8-4450-4dac-8310-b576effb941c"
      },
      "execution_count": 6,
      "outputs": [
        {
          "output_type": "stream",
          "name": "stdout",
          "text": [
            "Collecting efficientnet_pytorch\n",
            "  Downloading efficientnet_pytorch-0.7.1.tar.gz (21 kB)\n",
            "  Preparing metadata (setup.py) ... \u001b[?25l\u001b[?25hdone\n",
            "Requirement already satisfied: torch in /usr/local/lib/python3.10/dist-packages (from efficientnet_pytorch) (2.2.1+cu121)\n",
            "Requirement already satisfied: filelock in /usr/local/lib/python3.10/dist-packages (from torch->efficientnet_pytorch) (3.14.0)\n",
            "Requirement already satisfied: typing-extensions>=4.8.0 in /usr/local/lib/python3.10/dist-packages (from torch->efficientnet_pytorch) (4.11.0)\n",
            "Requirement already satisfied: sympy in /usr/local/lib/python3.10/dist-packages (from torch->efficientnet_pytorch) (1.12)\n",
            "Requirement already satisfied: networkx in /usr/local/lib/python3.10/dist-packages (from torch->efficientnet_pytorch) (3.3)\n",
            "Requirement already satisfied: jinja2 in /usr/local/lib/python3.10/dist-packages (from torch->efficientnet_pytorch) (3.1.3)\n",
            "Requirement already satisfied: fsspec in /usr/local/lib/python3.10/dist-packages (from torch->efficientnet_pytorch) (2023.6.0)\n",
            "Collecting nvidia-cuda-nvrtc-cu12==12.1.105 (from torch->efficientnet_pytorch)\n",
            "  Using cached nvidia_cuda_nvrtc_cu12-12.1.105-py3-none-manylinux1_x86_64.whl (23.7 MB)\n",
            "Collecting nvidia-cuda-runtime-cu12==12.1.105 (from torch->efficientnet_pytorch)\n",
            "  Using cached nvidia_cuda_runtime_cu12-12.1.105-py3-none-manylinux1_x86_64.whl (823 kB)\n",
            "Collecting nvidia-cuda-cupti-cu12==12.1.105 (from torch->efficientnet_pytorch)\n",
            "  Using cached nvidia_cuda_cupti_cu12-12.1.105-py3-none-manylinux1_x86_64.whl (14.1 MB)\n",
            "Collecting nvidia-cudnn-cu12==8.9.2.26 (from torch->efficientnet_pytorch)\n",
            "  Using cached nvidia_cudnn_cu12-8.9.2.26-py3-none-manylinux1_x86_64.whl (731.7 MB)\n",
            "Collecting nvidia-cublas-cu12==12.1.3.1 (from torch->efficientnet_pytorch)\n",
            "  Using cached nvidia_cublas_cu12-12.1.3.1-py3-none-manylinux1_x86_64.whl (410.6 MB)\n",
            "Collecting nvidia-cufft-cu12==11.0.2.54 (from torch->efficientnet_pytorch)\n",
            "  Using cached nvidia_cufft_cu12-11.0.2.54-py3-none-manylinux1_x86_64.whl (121.6 MB)\n",
            "Collecting nvidia-curand-cu12==10.3.2.106 (from torch->efficientnet_pytorch)\n",
            "  Using cached nvidia_curand_cu12-10.3.2.106-py3-none-manylinux1_x86_64.whl (56.5 MB)\n",
            "Collecting nvidia-cusolver-cu12==11.4.5.107 (from torch->efficientnet_pytorch)\n",
            "  Using cached nvidia_cusolver_cu12-11.4.5.107-py3-none-manylinux1_x86_64.whl (124.2 MB)\n",
            "Collecting nvidia-cusparse-cu12==12.1.0.106 (from torch->efficientnet_pytorch)\n",
            "  Using cached nvidia_cusparse_cu12-12.1.0.106-py3-none-manylinux1_x86_64.whl (196.0 MB)\n",
            "Collecting nvidia-nccl-cu12==2.19.3 (from torch->efficientnet_pytorch)\n",
            "  Using cached nvidia_nccl_cu12-2.19.3-py3-none-manylinux1_x86_64.whl (166.0 MB)\n",
            "Collecting nvidia-nvtx-cu12==12.1.105 (from torch->efficientnet_pytorch)\n",
            "  Using cached nvidia_nvtx_cu12-12.1.105-py3-none-manylinux1_x86_64.whl (99 kB)\n",
            "Requirement already satisfied: triton==2.2.0 in /usr/local/lib/python3.10/dist-packages (from torch->efficientnet_pytorch) (2.2.0)\n",
            "Collecting nvidia-nvjitlink-cu12 (from nvidia-cusolver-cu12==11.4.5.107->torch->efficientnet_pytorch)\n",
            "  Using cached nvidia_nvjitlink_cu12-12.4.127-py3-none-manylinux2014_x86_64.whl (21.1 MB)\n",
            "Requirement already satisfied: MarkupSafe>=2.0 in /usr/local/lib/python3.10/dist-packages (from jinja2->torch->efficientnet_pytorch) (2.1.5)\n",
            "Requirement already satisfied: mpmath>=0.19 in /usr/local/lib/python3.10/dist-packages (from sympy->torch->efficientnet_pytorch) (1.3.0)\n",
            "Building wheels for collected packages: efficientnet_pytorch\n",
            "  Building wheel for efficientnet_pytorch (setup.py) ... \u001b[?25l\u001b[?25hdone\n",
            "  Created wheel for efficientnet_pytorch: filename=efficientnet_pytorch-0.7.1-py3-none-any.whl size=16429 sha256=886eecbd19b3ed6cf6c698e3e3b8a4147d3e3b188aded74d1531430c1d963c61\n",
            "  Stored in directory: /root/.cache/pip/wheels/03/3f/e9/911b1bc46869644912bda90a56bcf7b960f20b5187feea3baf\n",
            "Successfully built efficientnet_pytorch\n",
            "Installing collected packages: nvidia-nvtx-cu12, nvidia-nvjitlink-cu12, nvidia-nccl-cu12, nvidia-curand-cu12, nvidia-cufft-cu12, nvidia-cuda-runtime-cu12, nvidia-cuda-nvrtc-cu12, nvidia-cuda-cupti-cu12, nvidia-cublas-cu12, nvidia-cusparse-cu12, nvidia-cudnn-cu12, nvidia-cusolver-cu12, efficientnet_pytorch\n",
            "Successfully installed efficientnet_pytorch-0.7.1 nvidia-cublas-cu12-12.1.3.1 nvidia-cuda-cupti-cu12-12.1.105 nvidia-cuda-nvrtc-cu12-12.1.105 nvidia-cuda-runtime-cu12-12.1.105 nvidia-cudnn-cu12-8.9.2.26 nvidia-cufft-cu12-11.0.2.54 nvidia-curand-cu12-10.3.2.106 nvidia-cusolver-cu12-11.4.5.107 nvidia-cusparse-cu12-12.1.0.106 nvidia-nccl-cu12-2.19.3 nvidia-nvjitlink-cu12-12.4.127 nvidia-nvtx-cu12-12.1.105\n"
          ]
        }
      ]
    },
    {
      "cell_type": "markdown",
      "source": [
        "Over here we are defining a CHDModelEfficientNet class, which will be our Efficientnet-B4 model with it's pretrained weights.\n",
        "\n"
      ],
      "metadata": {
        "id": "N93KRZbh16KW"
      }
    },
    {
      "cell_type": "code",
      "source": [
        "from efficientnet_pytorch import EfficientNet\n",
        "\n",
        "class CHDModelEfficientNet(torch.nn.Module):\n",
        "    def __init__(self, num_classes=4):\n",
        "        super(CHDModelEfficientNet, self).__init__()\n",
        "        self.base_model = EfficientNet.from_pretrained('efficientnet-b4')\n",
        "\n",
        "        num_ftrs = self.base_model._fc.in_features\n",
        "        self.base_model._fc = torch.nn.Linear(num_ftrs, num_classes)\n",
        "\n",
        "    def forward(self, x):\n",
        "        return self.base_model(x)"
      ],
      "metadata": {
        "id": "DyVkghXzVe6Z"
      },
      "execution_count": 62,
      "outputs": []
    },
    {
      "cell_type": "markdown",
      "source": [
        "Over here we are defining a CHDModelInceptionNet class, which will be our Inception V3 model with it's pretrained weights.\n"
      ],
      "metadata": {
        "id": "z2-EXWlc2Hbg"
      }
    },
    {
      "cell_type": "code",
      "source": [
        "class CHDModelInceptionNet(torch.nn.Module):\n",
        "    def __init__(self, num_classes):\n",
        "        super(CHDModelInceptionNet, self).__init__()\n",
        "        self.model = torchvision.models.inception_v3(pretrained=True)\n",
        "\n",
        "        num_ftrs = self.model.fc.in_features\n",
        "        self.model.fc = torch.nn.Linear(num_ftrs, num_classes)\n",
        "\n",
        "    def forward(self, x):\n",
        "        return self.model(x)"
      ],
      "metadata": {
        "id": "ksjJjcj-Vz-H"
      },
      "execution_count": 63,
      "outputs": []
    },
    {
      "cell_type": "markdown",
      "source": [
        "# Training"
      ],
      "metadata": {
        "id": "RfiUfWZr3_gm"
      }
    },
    {
      "cell_type": "markdown",
      "source": [
        "Here we are intializing few things.\n",
        "\n",
        "\n",
        "*   device\n",
        "*   num_classes - number of classes that will be our Model's output.\n",
        "*   model - Initializing the model.\n",
        "*   epoch - We will train our models for 60 epochs"
      ],
      "metadata": {
        "id": "LWqA2qSE2-aL"
      }
    },
    {
      "cell_type": "code",
      "source": [
        "device = torch.device(\"cuda\" if torch.cuda.is_available() else \"cpu\")\n",
        "num_classes = 4  # assuming 4 classes: ASD, Normal, PDA, VSD\n",
        "model = CHDModelInceptionNet(num_classes).to(device)\n",
        "epoch = 60"
      ],
      "metadata": {
        "id": "KoFx1TihxpRh",
        "colab": {
          "base_uri": "https://localhost:8080/"
        },
        "outputId": "ee760ec8-a219-4513-a03e-e0af887b483e"
      },
      "execution_count": null,
      "outputs": [
        {
          "output_type": "stream",
          "name": "stderr",
          "text": [
            "/usr/local/lib/python3.10/dist-packages/torchvision/models/_utils.py:208: UserWarning: The parameter 'pretrained' is deprecated since 0.13 and may be removed in the future, please use 'weights' instead.\n",
            "  warnings.warn(\n",
            "/usr/local/lib/python3.10/dist-packages/torchvision/models/_utils.py:223: UserWarning: Arguments other than a weight enum or `None` for 'weights' are deprecated since 0.13 and may be removed in the future. The current behavior is equivalent to passing `weights=Inception_V3_Weights.IMAGENET1K_V1`. You can also use `weights=Inception_V3_Weights.DEFAULT` to get the most up-to-date weights.\n",
            "  warnings.warn(msg)\n"
          ]
        }
      ]
    },
    {
      "cell_type": "code",
      "source": [
        "input = torch.randn(2, 3, 299, 299).to(device)\n",
        "model(input)"
      ],
      "metadata": {
        "colab": {
          "base_uri": "https://localhost:8080/"
        },
        "id": "DWvh-3rO5XYt",
        "outputId": "b9a90be9-e3e4-4f83-fd89-d4b15bbd9855"
      },
      "execution_count": null,
      "outputs": [
        {
          "output_type": "execute_result",
          "data": {
            "text/plain": [
              "InceptionOutputs(logits=tensor([[-0.2256,  0.4263, -0.0474, -0.3016],\n",
              "        [-0.6970,  0.0639,  0.0568,  0.0511]], device='cuda:0',\n",
              "       grad_fn=<AddmmBackward0>), aux_logits=tensor([[-0.6799, -1.6828,  1.2916,  ...,  1.3867,  0.3347,  1.7077],\n",
              "        [ 0.5173,  1.3083, -1.8195,  ..., -1.8600, -0.5272, -1.8355]],\n",
              "       device='cuda:0', grad_fn=<AddmmBackward0>))"
            ]
          },
          "metadata": {},
          "execution_count": 120
        }
      ]
    },
    {
      "cell_type": "markdown",
      "source": [
        "Here are few more things, before we start training.\n",
        "\n",
        "\n",
        "\n",
        "*   We are using Cross Entropy Loss because it is a multiclass cassification problem.\n",
        "*   We are also using ADAM optimizer with learing rate 1e-4.\n",
        "*   At the end, we are defining a scheduler which will reduce our learning rate by 70% after every 6 epochs.\n",
        "\n"
      ],
      "metadata": {
        "id": "TptQtpj83rY1"
      }
    },
    {
      "cell_type": "code",
      "source": [
        "criterion = torch.nn.CrossEntropyLoss()\n",
        "optimizer = torch.optim.Adam(model.parameters(), lr=1e-4)\n",
        "scheduler = torch.optim.lr_scheduler.StepLR(optimizer, step_size=6, gamma=0.7)"
      ],
      "metadata": {
        "id": "HZ4Y5ZkNxPBQ"
      },
      "execution_count": null,
      "outputs": []
    },
    {
      "cell_type": "markdown",
      "source": [
        "Now for the traing part,\n",
        "\n",
        "\n",
        "*   We will send our data with 16 batch size.\n",
        "*   At the end, we will save the best model by our validation accuracy.\n",
        "\n"
      ],
      "metadata": {
        "id": "z4MrAY8_45Rp"
      }
    },
    {
      "cell_type": "code",
      "source": [
        "best_val_accuracy = 0.0  # Variable to store the best validation accuracy\n",
        "best_model_state_dict = None  # Variable to store the state dict of the best model\n",
        "best_epoch = 0  # Variable to store the epoch number of the best model\n",
        "\n",
        "for epoch in range(60):  # Loop over the dataset multiple times\n",
        "    model.train()  # Set the model to training mode\n",
        "    running_loss = 0.0\n",
        "    running_accuracy = 0.0\n",
        "\n",
        "    for inputs, labels in tqdm(train_loader):\n",
        "        inputs, labels = inputs.to(device), labels.to(device)\n",
        "        optimizer.zero_grad()  # Zero the parameter gradients\n",
        "        outputs = model(inputs)\n",
        "\n",
        "        outputs = outputs.logits\n",
        "\n",
        "        # Use CrossEntropyLoss for multi-class classification\n",
        "        loss = criterion(outputs, labels)\n",
        "\n",
        "        # Calculate accuracy\n",
        "        _, predicted = torch.max(outputs, 1)\n",
        "        correct = (predicted == labels).sum().item()\n",
        "        accuracy = correct / labels.size(0)\n",
        "\n",
        "        loss.backward()\n",
        "        optimizer.step()\n",
        "\n",
        "        running_loss += loss.item()\n",
        "        running_accuracy += accuracy\n",
        "\n",
        "    train_loss = running_loss / len(train_loader)\n",
        "    train_accuracy = running_accuracy / len(train_loader)\n",
        "    scheduler.step()\n",
        "\n",
        "    # Validation phase\n",
        "    model.eval()  # Set the model to evaluation mode\n",
        "    val_running_loss = 0.0\n",
        "    val_running_accuracy = 0.0\n",
        "    with torch.no_grad():  # Inference mode, no need to calculate gradients\n",
        "        for inputs, labels in val_loader:\n",
        "            inputs, labels = inputs.to(device), labels.to(device)\n",
        "            outputs = model(inputs)\n",
        "\n",
        "            # Use CrossEntropyLoss for multi-class classification\n",
        "            loss = criterion(outputs, labels)\n",
        "\n",
        "            # Calculate accuracy\n",
        "            _, predicted = torch.max(outputs, 1)\n",
        "            correct = (predicted == labels).sum().item()\n",
        "            accuracy = correct / labels.size(0)\n",
        "\n",
        "            val_running_loss += loss.item()\n",
        "            val_running_accuracy += accuracy\n",
        "\n",
        "    val_loss = val_running_loss / len(val_loader)\n",
        "    val_accuracy = val_running_accuracy / len(val_loader)\n",
        "\n",
        "    print(f'Epoch {epoch + 1}, Train Loss: {train_loss:.4f}, Train Acc: {train_accuracy:.4f}, Val Loss: {val_loss:.4f}, Val Acc: {val_accuracy:.4f}')\n",
        "\n",
        "    # Save the model if validation accuracy improves\n",
        "    if val_accuracy > best_val_accuracy:\n",
        "        best_val_accuracy = val_accuracy\n",
        "        best_model_state_dict = model.state_dict()\n",
        "        best_epoch = epoch + 1\n",
        "\n",
        "print('Finished Training')\n",
        "\n",
        "# Save the best model\n",
        "torch.save(best_model_state_dict, f'inceptionv3_pretrained_new8_{best_epoch}.pth')\n"
      ],
      "metadata": {
        "colab": {
          "base_uri": "https://localhost:8080/"
        },
        "id": "vrwav_I9xsJx",
        "outputId": "701eb931-fad0-48c9-90ea-e1bd9effd815"
      },
      "execution_count": null,
      "outputs": [
        {
          "output_type": "stream",
          "name": "stderr",
          "text": [
            "100%|██████████| 42/42 [00:14<00:00,  2.98it/s]\n"
          ]
        },
        {
          "output_type": "stream",
          "name": "stdout",
          "text": [
            "Epoch 1, Train Loss: 1.1961, Train Acc: 0.4469, Val Loss: 0.9988, Val Acc: 0.6098\n"
          ]
        },
        {
          "output_type": "stream",
          "name": "stderr",
          "text": [
            "100%|██████████| 42/42 [00:13<00:00,  3.04it/s]\n"
          ]
        },
        {
          "output_type": "stream",
          "name": "stdout",
          "text": [
            "Epoch 2, Train Loss: 0.7831, Train Acc: 0.6860, Val Loss: 0.7176, Val Acc: 0.6932\n"
          ]
        },
        {
          "output_type": "stream",
          "name": "stderr",
          "text": [
            "100%|██████████| 42/42 [00:13<00:00,  3.05it/s]\n"
          ]
        },
        {
          "output_type": "stream",
          "name": "stdout",
          "text": [
            "Epoch 3, Train Loss: 0.5856, Train Acc: 0.7812, Val Loss: 0.5957, Val Acc: 0.7614\n"
          ]
        },
        {
          "output_type": "stream",
          "name": "stderr",
          "text": [
            "100%|██████████| 42/42 [00:13<00:00,  3.03it/s]\n"
          ]
        },
        {
          "output_type": "stream",
          "name": "stdout",
          "text": [
            "Epoch 4, Train Loss: 0.3897, Train Acc: 0.8562, Val Loss: 0.6219, Val Acc: 0.7595\n"
          ]
        },
        {
          "output_type": "stream",
          "name": "stderr",
          "text": [
            "100%|██████████| 42/42 [00:13<00:00,  3.03it/s]\n"
          ]
        },
        {
          "output_type": "stream",
          "name": "stdout",
          "text": [
            "Epoch 5, Train Loss: 0.3851, Train Acc: 0.8502, Val Loss: 0.6528, Val Acc: 0.7519\n"
          ]
        },
        {
          "output_type": "stream",
          "name": "stderr",
          "text": [
            "100%|██████████| 42/42 [00:13<00:00,  3.02it/s]\n"
          ]
        },
        {
          "output_type": "stream",
          "name": "stdout",
          "text": [
            "Epoch 6, Train Loss: 0.2954, Train Acc: 0.9043, Val Loss: 0.6722, Val Acc: 0.7462\n"
          ]
        },
        {
          "output_type": "stream",
          "name": "stderr",
          "text": [
            "100%|██████████| 42/42 [00:13<00:00,  3.01it/s]\n"
          ]
        },
        {
          "output_type": "stream",
          "name": "stdout",
          "text": [
            "Epoch 7, Train Loss: 0.1971, Train Acc: 0.9390, Val Loss: 0.5147, Val Acc: 0.8390\n"
          ]
        },
        {
          "output_type": "stream",
          "name": "stderr",
          "text": [
            "100%|██████████| 42/42 [00:13<00:00,  3.00it/s]\n"
          ]
        },
        {
          "output_type": "stream",
          "name": "stdout",
          "text": [
            "Epoch 8, Train Loss: 0.1614, Train Acc: 0.9499, Val Loss: 0.5380, Val Acc: 0.7822\n"
          ]
        },
        {
          "output_type": "stream",
          "name": "stderr",
          "text": [
            "100%|██████████| 42/42 [00:13<00:00,  3.03it/s]\n"
          ]
        },
        {
          "output_type": "stream",
          "name": "stdout",
          "text": [
            "Epoch 9, Train Loss: 0.1758, Train Acc: 0.9439, Val Loss: 0.6663, Val Acc: 0.7633\n"
          ]
        },
        {
          "output_type": "stream",
          "name": "stderr",
          "text": [
            "100%|██████████| 42/42 [00:13<00:00,  3.01it/s]\n"
          ]
        },
        {
          "output_type": "stream",
          "name": "stdout",
          "text": [
            "Epoch 10, Train Loss: 0.2045, Train Acc: 0.9311, Val Loss: 0.7782, Val Acc: 0.7557\n"
          ]
        },
        {
          "output_type": "stream",
          "name": "stderr",
          "text": [
            "100%|██████████| 42/42 [00:13<00:00,  3.02it/s]\n"
          ]
        },
        {
          "output_type": "stream",
          "name": "stdout",
          "text": [
            "Epoch 11, Train Loss: 0.1239, Train Acc: 0.9633, Val Loss: 0.6059, Val Acc: 0.7822\n"
          ]
        },
        {
          "output_type": "stream",
          "name": "stderr",
          "text": [
            "100%|██████████| 42/42 [00:13<00:00,  3.02it/s]\n"
          ]
        },
        {
          "output_type": "stream",
          "name": "stdout",
          "text": [
            "Epoch 12, Train Loss: 0.1330, Train Acc: 0.9588, Val Loss: 0.6247, Val Acc: 0.7538\n"
          ]
        },
        {
          "output_type": "stream",
          "name": "stderr",
          "text": [
            "100%|██████████| 42/42 [00:14<00:00,  2.98it/s]\n"
          ]
        },
        {
          "output_type": "stream",
          "name": "stdout",
          "text": [
            "Epoch 13, Train Loss: 0.1040, Train Acc: 0.9702, Val Loss: 0.5346, Val Acc: 0.8201\n"
          ]
        },
        {
          "output_type": "stream",
          "name": "stderr",
          "text": [
            "100%|██████████| 42/42 [00:14<00:00,  2.98it/s]\n"
          ]
        },
        {
          "output_type": "stream",
          "name": "stdout",
          "text": [
            "Epoch 14, Train Loss: 0.1031, Train Acc: 0.9692, Val Loss: 0.4446, Val Acc: 0.8277\n"
          ]
        },
        {
          "output_type": "stream",
          "name": "stderr",
          "text": [
            "100%|██████████| 42/42 [00:13<00:00,  3.02it/s]\n"
          ]
        },
        {
          "output_type": "stream",
          "name": "stdout",
          "text": [
            "Epoch 15, Train Loss: 0.0671, Train Acc: 0.9821, Val Loss: 0.6272, Val Acc: 0.8049\n"
          ]
        },
        {
          "output_type": "stream",
          "name": "stderr",
          "text": [
            "100%|██████████| 42/42 [00:14<00:00,  2.99it/s]\n"
          ]
        },
        {
          "output_type": "stream",
          "name": "stdout",
          "text": [
            "Epoch 16, Train Loss: 0.0428, Train Acc: 0.9926, Val Loss: 0.5667, Val Acc: 0.7955\n"
          ]
        },
        {
          "output_type": "stream",
          "name": "stderr",
          "text": [
            "100%|██████████| 42/42 [00:13<00:00,  3.01it/s]\n"
          ]
        },
        {
          "output_type": "stream",
          "name": "stdout",
          "text": [
            "Epoch 17, Train Loss: 0.0513, Train Acc: 0.9886, Val Loss: 0.4783, Val Acc: 0.8011\n"
          ]
        },
        {
          "output_type": "stream",
          "name": "stderr",
          "text": [
            "100%|██████████| 42/42 [00:14<00:00,  2.97it/s]\n"
          ]
        },
        {
          "output_type": "stream",
          "name": "stdout",
          "text": [
            "Epoch 18, Train Loss: 0.0930, Train Acc: 0.9717, Val Loss: 0.7387, Val Acc: 0.7424\n"
          ]
        },
        {
          "output_type": "stream",
          "name": "stderr",
          "text": [
            "100%|██████████| 42/42 [00:14<00:00,  2.98it/s]\n"
          ]
        },
        {
          "output_type": "stream",
          "name": "stdout",
          "text": [
            "Epoch 19, Train Loss: 0.0483, Train Acc: 0.9866, Val Loss: 0.4896, Val Acc: 0.8542\n"
          ]
        },
        {
          "output_type": "stream",
          "name": "stderr",
          "text": [
            "100%|██████████| 42/42 [00:14<00:00,  2.94it/s]\n"
          ]
        },
        {
          "output_type": "stream",
          "name": "stdout",
          "text": [
            "Epoch 20, Train Loss: 0.0419, Train Acc: 0.9866, Val Loss: 0.4691, Val Acc: 0.8295\n"
          ]
        },
        {
          "output_type": "stream",
          "name": "stderr",
          "text": [
            "100%|██████████| 42/42 [00:14<00:00,  2.98it/s]\n"
          ]
        },
        {
          "output_type": "stream",
          "name": "stdout",
          "text": [
            "Epoch 21, Train Loss: 0.0350, Train Acc: 0.9911, Val Loss: 0.5008, Val Acc: 0.8220\n"
          ]
        },
        {
          "output_type": "stream",
          "name": "stderr",
          "text": [
            "100%|██████████| 42/42 [00:14<00:00,  3.00it/s]\n"
          ]
        },
        {
          "output_type": "stream",
          "name": "stdout",
          "text": [
            "Epoch 22, Train Loss: 0.0356, Train Acc: 0.9911, Val Loss: 0.5850, Val Acc: 0.8163\n"
          ]
        },
        {
          "output_type": "stream",
          "name": "stderr",
          "text": [
            "100%|██████████| 42/42 [00:14<00:00,  2.99it/s]\n"
          ]
        },
        {
          "output_type": "stream",
          "name": "stdout",
          "text": [
            "Epoch 23, Train Loss: 0.0308, Train Acc: 0.9926, Val Loss: 0.5353, Val Acc: 0.8333\n"
          ]
        },
        {
          "output_type": "stream",
          "name": "stderr",
          "text": [
            "100%|██████████| 42/42 [00:14<00:00,  2.97it/s]\n"
          ]
        },
        {
          "output_type": "stream",
          "name": "stdout",
          "text": [
            "Epoch 24, Train Loss: 0.0567, Train Acc: 0.9856, Val Loss: 0.5768, Val Acc: 0.8068\n"
          ]
        },
        {
          "output_type": "stream",
          "name": "stderr",
          "text": [
            "100%|██████████| 42/42 [00:13<00:00,  3.00it/s]\n"
          ]
        },
        {
          "output_type": "stream",
          "name": "stdout",
          "text": [
            "Epoch 25, Train Loss: 0.0386, Train Acc: 0.9926, Val Loss: 0.5295, Val Acc: 0.8030\n"
          ]
        },
        {
          "output_type": "stream",
          "name": "stderr",
          "text": [
            "100%|██████████| 42/42 [00:14<00:00,  2.98it/s]\n"
          ]
        },
        {
          "output_type": "stream",
          "name": "stdout",
          "text": [
            "Epoch 26, Train Loss: 0.0326, Train Acc: 0.9916, Val Loss: 0.6354, Val Acc: 0.7992\n"
          ]
        },
        {
          "output_type": "stream",
          "name": "stderr",
          "text": [
            "100%|██████████| 42/42 [00:14<00:00,  2.94it/s]\n"
          ]
        },
        {
          "output_type": "stream",
          "name": "stdout",
          "text": [
            "Epoch 27, Train Loss: 0.0486, Train Acc: 0.9881, Val Loss: 0.5206, Val Acc: 0.8125\n"
          ]
        },
        {
          "output_type": "stream",
          "name": "stderr",
          "text": [
            "100%|██████████| 42/42 [00:14<00:00,  2.99it/s]\n"
          ]
        },
        {
          "output_type": "stream",
          "name": "stdout",
          "text": [
            "Epoch 28, Train Loss: 0.0334, Train Acc: 0.9911, Val Loss: 0.5562, Val Acc: 0.8125\n"
          ]
        },
        {
          "output_type": "stream",
          "name": "stderr",
          "text": [
            "100%|██████████| 42/42 [00:14<00:00,  2.99it/s]\n"
          ]
        },
        {
          "output_type": "stream",
          "name": "stdout",
          "text": [
            "Epoch 29, Train Loss: 0.0243, Train Acc: 0.9970, Val Loss: 0.4851, Val Acc: 0.8561\n"
          ]
        },
        {
          "output_type": "stream",
          "name": "stderr",
          "text": [
            "100%|██████████| 42/42 [00:14<00:00,  2.97it/s]\n"
          ]
        },
        {
          "output_type": "stream",
          "name": "stdout",
          "text": [
            "Epoch 30, Train Loss: 0.0190, Train Acc: 0.9985, Val Loss: 0.4848, Val Acc: 0.8485\n"
          ]
        },
        {
          "output_type": "stream",
          "name": "stderr",
          "text": [
            "100%|██████████| 42/42 [00:14<00:00,  2.96it/s]\n"
          ]
        },
        {
          "output_type": "stream",
          "name": "stdout",
          "text": [
            "Epoch 31, Train Loss: 0.0290, Train Acc: 0.9926, Val Loss: 0.5031, Val Acc: 0.8182\n"
          ]
        },
        {
          "output_type": "stream",
          "name": "stderr",
          "text": [
            "100%|██████████| 42/42 [00:14<00:00,  3.00it/s]\n"
          ]
        },
        {
          "output_type": "stream",
          "name": "stdout",
          "text": [
            "Epoch 32, Train Loss: 0.0180, Train Acc: 0.9955, Val Loss: 0.5250, Val Acc: 0.8106\n"
          ]
        },
        {
          "output_type": "stream",
          "name": "stderr",
          "text": [
            "100%|██████████| 42/42 [00:14<00:00,  2.97it/s]\n"
          ]
        },
        {
          "output_type": "stream",
          "name": "stdout",
          "text": [
            "Epoch 33, Train Loss: 0.0133, Train Acc: 0.9985, Val Loss: 0.6279, Val Acc: 0.7708\n"
          ]
        },
        {
          "output_type": "stream",
          "name": "stderr",
          "text": [
            "100%|██████████| 42/42 [00:14<00:00,  2.98it/s]\n"
          ]
        },
        {
          "output_type": "stream",
          "name": "stdout",
          "text": [
            "Epoch 34, Train Loss: 0.0162, Train Acc: 0.9926, Val Loss: 0.4677, Val Acc: 0.8712\n"
          ]
        },
        {
          "output_type": "stream",
          "name": "stderr",
          "text": [
            "100%|██████████| 42/42 [00:14<00:00,  2.97it/s]\n"
          ]
        },
        {
          "output_type": "stream",
          "name": "stdout",
          "text": [
            "Epoch 35, Train Loss: 0.0271, Train Acc: 0.9926, Val Loss: 0.6212, Val Acc: 0.7992\n"
          ]
        },
        {
          "output_type": "stream",
          "name": "stderr",
          "text": [
            "100%|██████████| 42/42 [00:13<00:00,  3.00it/s]\n"
          ]
        },
        {
          "output_type": "stream",
          "name": "stdout",
          "text": [
            "Epoch 36, Train Loss: 0.0544, Train Acc: 0.9861, Val Loss: 0.4993, Val Acc: 0.8049\n"
          ]
        },
        {
          "output_type": "stream",
          "name": "stderr",
          "text": [
            "100%|██████████| 42/42 [00:14<00:00,  2.98it/s]\n"
          ]
        },
        {
          "output_type": "stream",
          "name": "stdout",
          "text": [
            "Epoch 37, Train Loss: 0.0288, Train Acc: 0.9940, Val Loss: 0.5288, Val Acc: 0.8125\n"
          ]
        },
        {
          "output_type": "stream",
          "name": "stderr",
          "text": [
            "100%|██████████| 42/42 [00:14<00:00,  2.99it/s]\n"
          ]
        },
        {
          "output_type": "stream",
          "name": "stdout",
          "text": [
            "Epoch 38, Train Loss: 0.0242, Train Acc: 0.9906, Val Loss: 0.5489, Val Acc: 0.8220\n"
          ]
        },
        {
          "output_type": "stream",
          "name": "stderr",
          "text": [
            "100%|██████████| 42/42 [00:14<00:00,  2.99it/s]\n"
          ]
        },
        {
          "output_type": "stream",
          "name": "stdout",
          "text": [
            "Epoch 39, Train Loss: 0.0117, Train Acc: 0.9985, Val Loss: 0.6147, Val Acc: 0.8220\n"
          ]
        },
        {
          "output_type": "stream",
          "name": "stderr",
          "text": [
            "100%|██████████| 42/42 [00:14<00:00,  2.98it/s]\n"
          ]
        },
        {
          "output_type": "stream",
          "name": "stdout",
          "text": [
            "Epoch 40, Train Loss: 0.0269, Train Acc: 0.9931, Val Loss: 0.5226, Val Acc: 0.8390\n"
          ]
        },
        {
          "output_type": "stream",
          "name": "stderr",
          "text": [
            "100%|██████████| 42/42 [00:14<00:00,  2.97it/s]\n"
          ]
        },
        {
          "output_type": "stream",
          "name": "stdout",
          "text": [
            "Epoch 41, Train Loss: 0.0203, Train Acc: 0.9955, Val Loss: 0.5162, Val Acc: 0.8466\n"
          ]
        },
        {
          "output_type": "stream",
          "name": "stderr",
          "text": [
            "100%|██████████| 42/42 [00:14<00:00,  3.00it/s]\n"
          ]
        },
        {
          "output_type": "stream",
          "name": "stdout",
          "text": [
            "Epoch 42, Train Loss: 0.0451, Train Acc: 0.9876, Val Loss: 0.6014, Val Acc: 0.7917\n"
          ]
        },
        {
          "output_type": "stream",
          "name": "stderr",
          "text": [
            "100%|██████████| 42/42 [00:14<00:00,  2.98it/s]\n"
          ]
        },
        {
          "output_type": "stream",
          "name": "stdout",
          "text": [
            "Epoch 43, Train Loss: 0.0254, Train Acc: 0.9945, Val Loss: 0.4885, Val Acc: 0.8447\n"
          ]
        },
        {
          "output_type": "stream",
          "name": "stderr",
          "text": [
            "100%|██████████| 42/42 [00:14<00:00,  3.00it/s]\n"
          ]
        },
        {
          "output_type": "stream",
          "name": "stdout",
          "text": [
            "Epoch 44, Train Loss: 0.0339, Train Acc: 0.9886, Val Loss: 0.5213, Val Acc: 0.8295\n"
          ]
        },
        {
          "output_type": "stream",
          "name": "stderr",
          "text": [
            "100%|██████████| 42/42 [00:14<00:00,  2.96it/s]\n"
          ]
        },
        {
          "output_type": "stream",
          "name": "stdout",
          "text": [
            "Epoch 45, Train Loss: 0.0130, Train Acc: 0.9985, Val Loss: 0.4757, Val Acc: 0.8182\n"
          ]
        },
        {
          "output_type": "stream",
          "name": "stderr",
          "text": [
            "100%|██████████| 42/42 [00:14<00:00,  2.97it/s]\n"
          ]
        },
        {
          "output_type": "stream",
          "name": "stdout",
          "text": [
            "Epoch 46, Train Loss: 0.0144, Train Acc: 0.9985, Val Loss: 0.4848, Val Acc: 0.8542\n"
          ]
        },
        {
          "output_type": "stream",
          "name": "stderr",
          "text": [
            "100%|██████████| 42/42 [00:14<00:00,  2.97it/s]\n"
          ]
        },
        {
          "output_type": "stream",
          "name": "stdout",
          "text": [
            "Epoch 47, Train Loss: 0.0178, Train Acc: 0.9985, Val Loss: 0.5884, Val Acc: 0.8030\n"
          ]
        },
        {
          "output_type": "stream",
          "name": "stderr",
          "text": [
            "100%|██████████| 42/42 [00:14<00:00,  2.97it/s]\n"
          ]
        },
        {
          "output_type": "stream",
          "name": "stdout",
          "text": [
            "Epoch 48, Train Loss: 0.0127, Train Acc: 0.9985, Val Loss: 0.5551, Val Acc: 0.8220\n"
          ]
        },
        {
          "output_type": "stream",
          "name": "stderr",
          "text": [
            "100%|██████████| 42/42 [00:14<00:00,  2.99it/s]\n"
          ]
        },
        {
          "output_type": "stream",
          "name": "stdout",
          "text": [
            "Epoch 49, Train Loss: 0.0138, Train Acc: 1.0000, Val Loss: 0.5368, Val Acc: 0.8447\n"
          ]
        },
        {
          "output_type": "stream",
          "name": "stderr",
          "text": [
            "100%|██████████| 42/42 [00:14<00:00,  2.98it/s]\n"
          ]
        },
        {
          "output_type": "stream",
          "name": "stdout",
          "text": [
            "Epoch 50, Train Loss: 0.0159, Train Acc: 0.9970, Val Loss: 0.5105, Val Acc: 0.8277\n"
          ]
        },
        {
          "output_type": "stream",
          "name": "stderr",
          "text": [
            "100%|██████████| 42/42 [00:14<00:00,  2.98it/s]\n"
          ]
        },
        {
          "output_type": "stream",
          "name": "stdout",
          "text": [
            "Epoch 51, Train Loss: 0.0204, Train Acc: 0.9970, Val Loss: 0.4907, Val Acc: 0.8220\n"
          ]
        },
        {
          "output_type": "stream",
          "name": "stderr",
          "text": [
            "100%|██████████| 42/42 [00:14<00:00,  2.99it/s]\n"
          ]
        },
        {
          "output_type": "stream",
          "name": "stdout",
          "text": [
            "Epoch 52, Train Loss: 0.0130, Train Acc: 0.9960, Val Loss: 0.5047, Val Acc: 0.8447\n"
          ]
        },
        {
          "output_type": "stream",
          "name": "stderr",
          "text": [
            "100%|██████████| 42/42 [00:14<00:00,  2.96it/s]\n"
          ]
        },
        {
          "output_type": "stream",
          "name": "stdout",
          "text": [
            "Epoch 53, Train Loss: 0.0095, Train Acc: 1.0000, Val Loss: 0.5346, Val Acc: 0.8087\n"
          ]
        },
        {
          "output_type": "stream",
          "name": "stderr",
          "text": [
            "100%|██████████| 42/42 [00:14<00:00,  2.93it/s]\n"
          ]
        },
        {
          "output_type": "stream",
          "name": "stdout",
          "text": [
            "Epoch 54, Train Loss: 0.0084, Train Acc: 0.9985, Val Loss: 0.5570, Val Acc: 0.8447\n"
          ]
        },
        {
          "output_type": "stream",
          "name": "stderr",
          "text": [
            "100%|██████████| 42/42 [00:14<00:00,  2.95it/s]\n"
          ]
        },
        {
          "output_type": "stream",
          "name": "stdout",
          "text": [
            "Epoch 55, Train Loss: 0.0097, Train Acc: 1.0000, Val Loss: 0.5142, Val Acc: 0.8390\n"
          ]
        },
        {
          "output_type": "stream",
          "name": "stderr",
          "text": [
            "100%|██████████| 42/42 [00:14<00:00,  2.91it/s]\n"
          ]
        },
        {
          "output_type": "stream",
          "name": "stdout",
          "text": [
            "Epoch 56, Train Loss: 0.0193, Train Acc: 0.9940, Val Loss: 0.5185, Val Acc: 0.8163\n"
          ]
        },
        {
          "output_type": "stream",
          "name": "stderr",
          "text": [
            "100%|██████████| 42/42 [00:14<00:00,  2.96it/s]\n"
          ]
        },
        {
          "output_type": "stream",
          "name": "stdout",
          "text": [
            "Epoch 57, Train Loss: 0.0250, Train Acc: 0.9955, Val Loss: 0.5463, Val Acc: 0.8239\n"
          ]
        },
        {
          "output_type": "stream",
          "name": "stderr",
          "text": [
            "100%|██████████| 42/42 [00:14<00:00,  2.96it/s]\n"
          ]
        },
        {
          "output_type": "stream",
          "name": "stdout",
          "text": [
            "Epoch 58, Train Loss: 0.0073, Train Acc: 1.0000, Val Loss: 0.5340, Val Acc: 0.8144\n"
          ]
        },
        {
          "output_type": "stream",
          "name": "stderr",
          "text": [
            "100%|██████████| 42/42 [00:14<00:00,  2.96it/s]\n"
          ]
        },
        {
          "output_type": "stream",
          "name": "stdout",
          "text": [
            "Epoch 59, Train Loss: 0.0173, Train Acc: 0.9985, Val Loss: 0.5402, Val Acc: 0.8068\n"
          ]
        },
        {
          "output_type": "stream",
          "name": "stderr",
          "text": [
            "100%|██████████| 42/42 [00:14<00:00,  2.96it/s]\n"
          ]
        },
        {
          "output_type": "stream",
          "name": "stdout",
          "text": [
            "Epoch 60, Train Loss: 0.0215, Train Acc: 0.9955, Val Loss: 0.5265, Val Acc: 0.8428\n",
            "Finished Training\n"
          ]
        }
      ]
    },
    {
      "cell_type": "markdown",
      "source": [
        "# Evaluation"
      ],
      "metadata": {
        "id": "kGs4fTMR5hdm"
      }
    },
    {
      "cell_type": "markdown",
      "source": [
        "We will first load our models that we have trained in the next three cells"
      ],
      "metadata": {
        "id": "OhqtQUYu5j9j"
      }
    },
    {
      "cell_type": "code",
      "source": [
        "device = torch.device(\"cuda\" if torch.cuda.is_available() else \"cpu\")\n",
        "num_classes = 4"
      ],
      "metadata": {
        "id": "M50HvUtu7Uez"
      },
      "execution_count": 9,
      "outputs": []
    },
    {
      "cell_type": "markdown",
      "source": [
        "Added feature map for Visualization"
      ],
      "metadata": {
        "id": "tZIJ7bJIRqr6"
      }
    },
    {
      "cell_type": "code",
      "source": [
        "class CHDModelResnet(torch.nn.Module):\n",
        "    def __init__(self, num_classes):\n",
        "        super(CHDModelResnet, self).__init__()\n",
        "        self.model = torchvision.models.resnet50(pretrained=True)\n",
        "        num_ftrs = self.model.fc.in_features\n",
        "        self.model.fc = torch.nn.Linear(in_features=num_ftrs, out_features=num_classes, bias=True)\n",
        "\n",
        "        self.feature_map = {}\n",
        "\n",
        "    def forward(self, x):\n",
        "        self.feature_map['layer4'] = torch.nn.Sequential(*list(self.model.children())[:-2])(x)\n",
        "        pred = self.model(x)\n",
        "\n",
        "        return pred\n"
      ],
      "metadata": {
        "id": "SxF8VUky-Xzn"
      },
      "execution_count": 123,
      "outputs": []
    },
    {
      "cell_type": "code",
      "source": [
        "resnet_weights_path = \"/content/drive/MyDrive/CHD/best_model_resnet50_pretrained_new8_42.pth\"\n",
        "resnet_model = CHDModelResnet(num_classes).to(device)\n",
        "resnet_model.load_state_dict(torch.load(resnet_weights_path))"
      ],
      "metadata": {
        "id": "tBqsb1SosLn6",
        "colab": {
          "base_uri": "https://localhost:8080/"
        },
        "outputId": "a2e7135d-f0ec-465e-d96c-47305f47172e"
      },
      "execution_count": 124,
      "outputs": [
        {
          "output_type": "stream",
          "name": "stderr",
          "text": [
            "/usr/local/lib/python3.10/dist-packages/torchvision/models/_utils.py:208: UserWarning: The parameter 'pretrained' is deprecated since 0.13 and may be removed in the future, please use 'weights' instead.\n",
            "  warnings.warn(\n",
            "/usr/local/lib/python3.10/dist-packages/torchvision/models/_utils.py:223: UserWarning: Arguments other than a weight enum or `None` for 'weights' are deprecated since 0.13 and may be removed in the future. The current behavior is equivalent to passing `weights=ResNet50_Weights.IMAGENET1K_V1`. You can also use `weights=ResNet50_Weights.DEFAULT` to get the most up-to-date weights.\n",
            "  warnings.warn(msg)\n"
          ]
        },
        {
          "output_type": "execute_result",
          "data": {
            "text/plain": [
              "<All keys matched successfully>"
            ]
          },
          "metadata": {},
          "execution_count": 124
        }
      ]
    },
    {
      "cell_type": "code",
      "source": [
        "effnet_weights_path = \"/content/drive/MyDrive/CHD/best_model_effnetb6_pretrained_new8_33.pth\"\n",
        "effnet_model = CHDModelEfficientNet(num_classes).to(device)\n",
        "effnet_model.load_state_dict(torch.load(effnet_weights_path))"
      ],
      "metadata": {
        "id": "v3kP5B3kuBe-",
        "colab": {
          "base_uri": "https://localhost:8080/"
        },
        "outputId": "1eee04fb-0dd9-4234-dbd4-480d2bf8a02c"
      },
      "execution_count": 65,
      "outputs": [
        {
          "output_type": "stream",
          "name": "stderr",
          "text": [
            "Downloading: \"https://github.com/lukemelas/EfficientNet-PyTorch/releases/download/1.0/efficientnet-b4-6ed6700e.pth\" to /root/.cache/torch/hub/checkpoints/efficientnet-b4-6ed6700e.pth\n",
            "100%|██████████| 74.4M/74.4M [00:00<00:00, 426MB/s]\n"
          ]
        },
        {
          "output_type": "stream",
          "name": "stdout",
          "text": [
            "Loaded pretrained weights for efficientnet-b4\n"
          ]
        },
        {
          "output_type": "execute_result",
          "data": {
            "text/plain": [
              "<All keys matched successfully>"
            ]
          },
          "metadata": {},
          "execution_count": 65
        }
      ]
    },
    {
      "cell_type": "code",
      "source": [
        "inception_weights_path = \"/content/drive/MyDrive/CHD/inceptionv3_pretrained_new8_34.pth\"\n",
        "inception_model = CHDModelInceptionNet(num_classes).to(device)\n",
        "inception_model.load_state_dict(torch.load(inception_weights_path))"
      ],
      "metadata": {
        "colab": {
          "base_uri": "https://localhost:8080/"
        },
        "id": "z5dKv_1abLl_",
        "outputId": "833debf5-df0f-4cfd-c1e7-f7d9cce9c97b"
      },
      "execution_count": 66,
      "outputs": [
        {
          "output_type": "stream",
          "name": "stderr",
          "text": [
            "/usr/local/lib/python3.10/dist-packages/torchvision/models/_utils.py:208: UserWarning: The parameter 'pretrained' is deprecated since 0.13 and may be removed in the future, please use 'weights' instead.\n",
            "  warnings.warn(\n",
            "/usr/local/lib/python3.10/dist-packages/torchvision/models/_utils.py:223: UserWarning: Arguments other than a weight enum or `None` for 'weights' are deprecated since 0.13 and may be removed in the future. The current behavior is equivalent to passing `weights=Inception_V3_Weights.IMAGENET1K_V1`. You can also use `weights=Inception_V3_Weights.DEFAULT` to get the most up-to-date weights.\n",
            "  warnings.warn(msg)\n",
            "Downloading: \"https://download.pytorch.org/models/inception_v3_google-0cc3c7bd.pth\" to /root/.cache/torch/hub/checkpoints/inception_v3_google-0cc3c7bd.pth\n",
            "100%|██████████| 104M/104M [00:01<00:00, 71.6MB/s] \n"
          ]
        },
        {
          "output_type": "execute_result",
          "data": {
            "text/plain": [
              "<All keys matched successfully>"
            ]
          },
          "metadata": {},
          "execution_count": 66
        }
      ]
    },
    {
      "cell_type": "markdown",
      "source": [
        "Here, transform will transform, scale, rotate and crop our images, but here we are creating 3 transforms for 3 different models."
      ],
      "metadata": {
        "id": "bhB8NyiW6A9l"
      }
    },
    {
      "cell_type": "code",
      "source": [
        "inception_transform = transforms.Compose([\n",
        "    transforms.ToTensor(),\n",
        "    transforms.RandomAffine(degrees=10, scale=(0.9, 1.1)),\n",
        "    transforms.CenterCrop((299, 299)),\n",
        "])\n",
        "\n",
        "effnet_transform = transforms.Compose([\n",
        "    transforms.ToTensor(),\n",
        "    transforms.RandomAffine(degrees=10, scale=(0.9, 1.1)),\n",
        "    transforms.CenterCrop((224, 224)),\n",
        "])\n",
        "\n",
        "resnet_transform = transforms.Compose([\n",
        "    transforms.ToTensor(),\n",
        "    transforms.RandomAffine(degrees=10, scale=(0.9, 1.1)),\n",
        "    transforms.CenterCrop((224, 224)),\n",
        "])"
      ],
      "metadata": {
        "id": "CxcFbbwdaJNX"
      },
      "execution_count": 67,
      "outputs": []
    },
    {
      "cell_type": "code",
      "source": [
        "inception_dataset = datasets.DatasetFolder(\n",
        "    root=\"preprocessed_dataset/val\",\n",
        "    loader=load_file,\n",
        "    extensions='.npy',\n",
        "    transform=inception_transform,\n",
        ")\n",
        "\n",
        "effnet_dataset = datasets.DatasetFolder(\n",
        "    root=\"preprocessed_dataset/val\",\n",
        "    loader=load_file,\n",
        "    extensions='.npy',\n",
        "    transform=effnet_transform,\n",
        ")\n",
        "\n",
        "resnet_dataset = datasets.DatasetFolder(\n",
        "    root=\"preprocessed_dataset/val\",\n",
        "    loader=load_file,\n",
        "    extensions='.npy',\n",
        "    transform=resnet_transform,\n",
        ")"
      ],
      "metadata": {
        "id": "bP-BTFkHaWmM"
      },
      "execution_count": 68,
      "outputs": []
    },
    {
      "cell_type": "code",
      "source": [
        "inception_loader = DataLoader(inception_dataset, batch_size=1, shuffle=False)\n",
        "effnet_loader = DataLoader(effnet_dataset, batch_size=1, shuffle=False)\n",
        "resnet_loader = DataLoader(resnet_dataset, batch_size=1, shuffle=False)"
      ],
      "metadata": {
        "id": "UOzU2CO1anbF"
      },
      "execution_count": 69,
      "outputs": []
    },
    {
      "cell_type": "markdown",
      "source": [
        "Here, we have created calculater_accuracy function which will take the model as well as the dataloader to calculate and the print the accuracy"
      ],
      "metadata": {
        "id": "zBmxAvq-6UWG"
      }
    },
    {
      "cell_type": "code",
      "source": [
        "def calculater_accuracy(data_loader, model):\n",
        "  val_accuracy = 0.0\n",
        "  val_running_corrects = 0\n",
        "  val_total_samples = 0\n",
        "\n",
        "  # Set the model to evaluation mode\n",
        "  model.eval()\n",
        "\n",
        "  with torch.no_grad():  # Inference mode, no need to calculate gradients\n",
        "      for inputs, labels in tqdm(data_loader):\n",
        "          inputs, labels = inputs.to(device), labels.to(device)\n",
        "\n",
        "          # Forward pass\n",
        "          outputs = model(inputs)\n",
        "\n",
        "          # Get predicted labels\n",
        "          _, preds = torch.max(outputs, 1)\n",
        "\n",
        "          # Update total number of samples\n",
        "          val_total_samples += labels.size(0)\n",
        "\n",
        "          # Update number of correct predictions\n",
        "          val_running_corrects += torch.sum(preds == labels.data)\n",
        "\n",
        "  # Calculate accuracy\n",
        "  val_accuracy = val_running_corrects.double() / val_total_samples\n",
        "\n",
        "  print(\"Validation Accuracy: {:.2f}%\".format(val_accuracy * 100))\n"
      ],
      "metadata": {
        "id": "xGrlguMxu_Xr"
      },
      "execution_count": 70,
      "outputs": []
    },
    {
      "cell_type": "markdown",
      "source": [
        "Accuracy of Inception Model"
      ],
      "metadata": {
        "id": "WKy6NF-N6y6U"
      }
    },
    {
      "cell_type": "code",
      "source": [
        "# torch.manual_seed(42)\n",
        "calculater_accuracy(inception_loader, inception_model)"
      ],
      "metadata": {
        "colab": {
          "base_uri": "https://localhost:8080/",
          "height": 66,
          "referenced_widgets": [
            "13b63bd2290941dca777a75b8261349c",
            "4237ef3cf6ef49c6a49c6f8777ea574c",
            "05d9d2fc7b8e4c45a96742c7836c6e6d",
            "2490796f0a9b44bfaa92268483620f25",
            "0054680ac1fb463781a5918f244c3585",
            "c702f4b7ab1241f78e6c3e1141046d90",
            "698d712fadc341e59298c3bb49b25bd0",
            "3630974dacd647edbdae2c57c1c53a52",
            "ef74619697064a57b4a3523539b6be59",
            "90b9c38a5c8c4664b548d7bade924a1f",
            "fabf775b3c0f4cef96dcef1ebfe5ac1f"
          ]
        },
        "id": "orvE6u-QbZXe",
        "outputId": "7979fa97-106f-4b59-b8c1-dec8d701da11"
      },
      "execution_count": 71,
      "outputs": [
        {
          "output_type": "display_data",
          "data": {
            "text/plain": [
              "  0%|          | 0/166 [00:00<?, ?it/s]"
            ],
            "application/vnd.jupyter.widget-view+json": {
              "version_major": 2,
              "version_minor": 0,
              "model_id": "13b63bd2290941dca777a75b8261349c"
            }
          },
          "metadata": {}
        },
        {
          "output_type": "stream",
          "name": "stdout",
          "text": [
            "Validation Accuracy: 84.94%\n"
          ]
        }
      ]
    },
    {
      "cell_type": "markdown",
      "source": [
        "Accuracy of Efficient Net Model"
      ],
      "metadata": {
        "id": "gZ0uvO5-69B-"
      }
    },
    {
      "cell_type": "code",
      "source": [
        "# torch.manual_seed(42)\n",
        "calculater_accuracy(effnet_loader, effnet_model)"
      ],
      "metadata": {
        "colab": {
          "base_uri": "https://localhost:8080/",
          "height": 66,
          "referenced_widgets": [
            "e0dc7adc46b1474493e28f46b6e3f39a",
            "75c28f9e57e849288153ed7d177a06dc",
            "ef823e69413e4fd5ab7a13c0faa50af4",
            "99f015a3dcac4aea81b24ac33fe1b212",
            "0036de2883544392aad9452ffdef54d5",
            "80a54a6eeaef4a4fb16a5195ca024f4e",
            "1c1d819721ec4cdcbd7b71d23338dba9",
            "a7f25fb81f64449d8de207f86f0b8b85",
            "86ef623454e64be3a45fecd9f17648b3",
            "d8264da8f0934cf0b9f39fb5ecb2ccbf",
            "4911603374724fc3a52b7c5168c0a367"
          ]
        },
        "id": "9XHRVe7Dbexd",
        "outputId": "0d36b23d-d976-4e97-bbf6-350e870719d1"
      },
      "execution_count": 72,
      "outputs": [
        {
          "output_type": "display_data",
          "data": {
            "text/plain": [
              "  0%|          | 0/166 [00:00<?, ?it/s]"
            ],
            "application/vnd.jupyter.widget-view+json": {
              "version_major": 2,
              "version_minor": 0,
              "model_id": "e0dc7adc46b1474493e28f46b6e3f39a"
            }
          },
          "metadata": {}
        },
        {
          "output_type": "stream",
          "name": "stdout",
          "text": [
            "Validation Accuracy: 86.14%\n"
          ]
        }
      ]
    },
    {
      "cell_type": "markdown",
      "source": [
        "Accuracy of ResNet Model"
      ],
      "metadata": {
        "id": "zllIsAai6_zR"
      }
    },
    {
      "cell_type": "code",
      "source": [
        "# torch.manual_seed(42)\n",
        "calculater_accuracy(resnet_loader, resnet_model)"
      ],
      "metadata": {
        "colab": {
          "base_uri": "https://localhost:8080/",
          "height": 66,
          "referenced_widgets": [
            "c47b9049e9354bbd8e1e02e4241295ee",
            "65fbdb50f200438786bfbd72aafbec0e",
            "33cf5a77011e44fc9ddf8848870c4cb2",
            "09e1a3f45356467aa742ae7b8808043d",
            "e9c022ee3eb04d169d9fd71391c158c7",
            "465b1f0737754ccdba84b81e06dea45a",
            "4dbb4699718e4649aaad4cfc44a902cd",
            "5ad4ab26397d444799a380dc40307e86",
            "803e37ca987a4dc0866bd2fe6d811e1f",
            "b4e413b5b1744db0bf7a385eaaedf7d0",
            "dd89199a2a7241219134e2fff9ae7115"
          ]
        },
        "id": "7q5YXzKzbhJT",
        "outputId": "9119600a-2d2a-4581-f1bc-aeb872fc72c0"
      },
      "execution_count": 73,
      "outputs": [
        {
          "output_type": "display_data",
          "data": {
            "text/plain": [
              "  0%|          | 0/166 [00:00<?, ?it/s]"
            ],
            "application/vnd.jupyter.widget-view+json": {
              "version_major": 2,
              "version_minor": 0,
              "model_id": "c47b9049e9354bbd8e1e02e4241295ee"
            }
          },
          "metadata": {}
        },
        {
          "output_type": "stream",
          "name": "stdout",
          "text": [
            "Validation Accuracy: 88.55%\n"
          ]
        }
      ]
    },
    {
      "cell_type": "markdown",
      "source": [
        "At the end, we using all three models to classify an image using voting classifier, and calculating the accuracy."
      ],
      "metadata": {
        "id": "eMxuLxDa7bqO"
      }
    },
    {
      "cell_type": "code",
      "source": [
        "# prompt: At the end, we using all three models to classify an image using voting classifier, and calculating the accuracy.\n",
        "\n",
        "def voting_classifier(model1, model2, model3, data_loader):\n",
        "  val_running_corrects = 0\n",
        "  val_total_samples = 0\n",
        "\n",
        "  # Set the models to evaluation mode\n",
        "  model1.eval()\n",
        "  model2.eval()\n",
        "  model3.eval()\n",
        "\n",
        "  with torch.no_grad():  # Inference mode, no need to calculate gradients\n",
        "      for inputs, labels in tqdm(data_loader):\n",
        "          inputs, labels = inputs.to(device), labels.to(device)\n",
        "\n",
        "          # Forward pass for each model\n",
        "\n",
        "          resnet_outputs = resnet_model(inputs)\n",
        "          effnet_outputs = effnet_model(inputs)\n",
        "          inception_outputs = inception_model(inputs)\n",
        "\n",
        "          # Calculate combined outputs using adjusted weights\n",
        "          combined_outputs = (resnet_outputs + effnet_outputs  + inception_outputs) / 3\n",
        "\n",
        "          # Get predicted labels\n",
        "          _, preds = torch.max(combined_outputs, 1)\n",
        "\n",
        "          # Update total number of samples\n",
        "          val_total_samples += labels.size(0)\n",
        "\n",
        "          # Update number of correct predictions\n",
        "          val_running_corrects += torch.sum(preds == labels.data)\n",
        "\n",
        "  # Calculate accuracy\n",
        "  val_accuracy = val_running_corrects.double() / val_total_samples\n",
        "\n",
        "  print(\"Validation Accuracy (Voting Classifier): {:.2f}%\".format(val_accuracy * 100))\n",
        "\n",
        "# Accuracy of Voting Classifier\n",
        "# torch.manual_seed(42)\n",
        "voting_classifier(inception_model, effnet_model, resnet_model, inception_loader)\n"
      ],
      "metadata": {
        "colab": {
          "base_uri": "https://localhost:8080/",
          "height": 66,
          "referenced_widgets": [
            "213a7226abe2439f92a5ba4b503d8053",
            "40cdeea7e3f24d2f982414c06baca981",
            "a92e9dce657a41f589634993262aedac",
            "557c5a67d5b443ee8cea39d3261a80f7",
            "f338c54948534ebd8a7b37912d9ec37b",
            "1a8019abc9f1437b9ac332e44b9600fa",
            "73918bd5dc274a428e89b8afe43810f0",
            "0a4eec943b7043dbac62c2a94eff474f",
            "b94e4849ce504ca7baea04ea6ee43965",
            "a0280a4ffc0b41949db4dd5c6a8c7eb7",
            "ba0b273998d14398805afcb1bd96f314"
          ]
        },
        "id": "wMerD73KCXap",
        "outputId": "e9b89b13-6454-4111-ff8a-4f33e87ad220"
      },
      "execution_count": 53,
      "outputs": [
        {
          "output_type": "display_data",
          "data": {
            "text/plain": [
              "  0%|          | 0/166 [00:00<?, ?it/s]"
            ],
            "application/vnd.jupyter.widget-view+json": {
              "version_major": 2,
              "version_minor": 0,
              "model_id": "213a7226abe2439f92a5ba4b503d8053"
            }
          },
          "metadata": {}
        },
        {
          "output_type": "stream",
          "name": "stdout",
          "text": [
            "Validation Accuracy (Voting Classifier): 86.75%\n"
          ]
        }
      ]
    },
    {
      "cell_type": "markdown",
      "source": [
        "# Visualization\n",
        "\n",
        "Here, we have visualized\n",
        "* What our NeuralNet is learning by generating heatmaps.\n",
        "* Where it is focusing to classify the images.\n",
        "* For this we have taken the weights from last Conv layer.\n",
        "\n",
        "We have only done it for Resnet50, but it can be be done for different classes and different model."
      ],
      "metadata": {
        "id": "EY4rtgH2Qeks"
      }
    },
    {
      "cell_type": "code",
      "source": [
        "with torch.no_grad():  # Inference mode, no need to calculate gradients\n",
        "    resnet_model.eval()\n",
        "    pred = resnet_model(resnet_dataset[0][0].unsqueeze(0).cuda())\n",
        "    feature_map = resnet_model.feature_map['layer4']\n",
        "\n",
        "feature = feature_map.reshape((2048, 49))\n",
        "\n",
        "weight_params = list(resnet_model.model.fc.parameters())[0]\n",
        "weight = weight_params[0].detach()\n",
        "\n",
        "print(feature.shape, weight.shape)\n",
        "cam = torch.matmul(weight, feature)\n",
        "  # cam_img = cam.reshape(7, 7).cpu()\n",
        "\n",
        "    # return cam_img, torch.sigmoid(pred)\n",
        "# Print the shapes of the feature maps\n",
        "print(\"Shape of feature map 1:\", feature_map.shape)\n",
        "# print(\"Shape of feature map 2:\", feature_map2.shape)"
      ],
      "metadata": {
        "colab": {
          "base_uri": "https://localhost:8080/"
        },
        "id": "VS9xbl27EutL",
        "outputId": "92f08419-ac61-4369-86a0-df7ce2a06859"
      },
      "execution_count": 139,
      "outputs": [
        {
          "output_type": "stream",
          "name": "stdout",
          "text": [
            "torch.Size([2048, 49]) torch.Size([2048])\n",
            "Shape of feature map 1: torch.Size([1, 2048, 7, 7])\n"
          ]
        }
      ]
    },
    {
      "cell_type": "code",
      "source": [
        "def cam(model, img):\n",
        "    with torch.no_grad():  # Inference mode, no need to calculate gradients\n",
        "      resnet_model.eval()\n",
        "      pred = resnet_model(resnet_dataset[0][0].unsqueeze(0).cuda())\n",
        "      feature_map = resnet_model.feature_map['layer4']\n",
        "\n",
        "    feature = feature_map.reshape((2048, 49))\n",
        "\n",
        "    weight_params = list(model.model.fc.parameters())[0]\n",
        "    weight = weight_params[0].detach()\n",
        "\n",
        "    cam = torch.matmul(weight, feature)\n",
        "    cam_img = cam.reshape(7, 7).cpu()\n",
        "\n",
        "    return cam_img, pred"
      ],
      "metadata": {
        "id": "NHl51u6KE0wc"
      },
      "execution_count": 181,
      "outputs": []
    },
    {
      "cell_type": "code",
      "source": [
        "def visualize(img, cam, pred):\n",
        "    cam = transforms.functional.resize(cam.unsqueeze(0), (224, 224))[0]\n",
        "\n",
        "    fig, axis = plt.subplots(1, 2)\n",
        "    axis[0].imshow(img, cmap=\"bone\")\n",
        "    axis[1].imshow(img, cmap=\"bone\")\n",
        "    axis[1].imshow(cam, alpha = 0.5, cmap=\"jet\")\n",
        "    # plt.title(pred)"
      ],
      "metadata": {
        "id": "QYmRyyZaFROo"
      },
      "execution_count": 187,
      "outputs": []
    },
    {
      "cell_type": "code",
      "source": [
        "img = resnet_dataset[-6][0].unsqueeze(0).cuda()  # Select a subject\n",
        "activation_map, pred = cam(resnet_model, img)"
      ],
      "metadata": {
        "id": "NSQVYFMbFlo7"
      },
      "execution_count": 188,
      "outputs": []
    },
    {
      "cell_type": "code",
      "source": [
        "visualize(img.squeeze(dim = 0).permute(1, 2, 0).cpu(), activation_map, pred.cpu())"
      ],
      "metadata": {
        "colab": {
          "base_uri": "https://localhost:8080/",
          "height": 291
        },
        "id": "DiVQxfADN22n",
        "outputId": "17bc42df-e41a-4365-fc52-15c5a78f88d9"
      },
      "execution_count": 189,
      "outputs": [
        {
          "output_type": "display_data",
          "data": {
            "text/plain": [
              "<Figure size 640x480 with 2 Axes>"
            ],
            "image/png": "[encoded data removed]"
          },
          "metadata": {}
        }
      ]
    },
    {
      "cell_type": "code",
      "source": [],
      "metadata": {
        "id": "FkaOpNqsQVVX"
      },
      "execution_count": null,
      "outputs": []
    }
  ]
}